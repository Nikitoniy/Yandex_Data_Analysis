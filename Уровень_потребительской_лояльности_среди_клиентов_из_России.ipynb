{
  "cells": [
    {
      "cell_type": "markdown",
      "metadata": {
        "id": "view-in-github",
        "colab_type": "text"
      },
      "source": [
        "<a href=\"https://colab.research.google.com/github/Nikitoniy/Yandex_Data_Analysis/blob/main/%D0%A3%D1%80%D0%BE%D0%B2%D0%B5%D0%BD%D1%8C_%D0%BF%D0%BE%D1%82%D1%80%D0%B5%D0%B1%D0%B8%D1%82%D0%B5%D0%BB%D1%8C%D1%81%D0%BA%D0%BE%D0%B9_%D0%BB%D0%BE%D1%8F%D0%BB%D1%8C%D0%BD%D0%BE%D1%81%D1%82%D0%B8_%D1%81%D1%80%D0%B5%D0%B4%D0%B8_%D0%BA%D0%BB%D0%B8%D0%B5%D0%BD%D1%82%D0%BE%D0%B2_%D0%B8%D0%B7_%D0%A0%D0%BE%D1%81%D1%81%D0%B8%D0%B8.ipynb\" target=\"_parent\"><img src=\"https://colab.research.google.com/assets/colab-badge.svg\" alt=\"Open In Colab\"/></a>"
      ]
    },
    {
      "cell_type": "markdown",
      "id": "2f4feceb",
      "metadata": {
        "id": "2f4feceb"
      },
      "source": [
        "## Уровень потребительской лояльности среди клиентов из России"
      ]
    },
    {
      "cell_type": "markdown",
      "id": "8ed84f5e",
      "metadata": {
        "id": "8ed84f5e"
      },
      "source": [
        "**Описание проекта:**\n",
        "\n",
        "Необходимо определить текущий уровень потребительской лояльности, по-другому NPS, среди клиентов из России. Для этого был проведен опрос и подготовлены таблицы.\n",
        "\n",
        "Чтобы оценить результаты опроса, оценки обычно делят на три группы:\n",
        "- 9-10 баллов — «cторонники»;\n",
        "- 7-8 баллов — «нейтралы»;\n",
        "- 0-6 баллов — «критики».\n",
        "\n",
        "\n",
        "**Цель проекта:**\n",
        "\n",
        "В ходе исследования необходимо подготовить данный, соединив SQL таблицы в одну витрину. Итоговую таблицу необходимо преобразовать и подготовить для полной и корректной работы с данными в Tableau. С помощью Tableau нужно дать полный ответ на актуальные вопросы, а также объединить данные в единую презентацию.\n",
        "\n",
        "**Описание исходных данных (таблиц):**\n",
        "- Таблица `user` (основная информация о клиентах):\n",
        "    - `user_id` - идентификатор клиента, первичный ключ таблицы;\n",
        "    - `lt_day` - количество дней «жизни» клиента;\n",
        "    - `age`\t- возраст клиента в годах;\n",
        "    - `gender_segment` - пол клиента (1 – женщина, 0 – мужчина);\n",
        "    - `os_name`\t- тип операционной системы;\n",
        "    - `cpe_type_name` - тип устройства;\n",
        "    - `location_id`\t- идентификатор домашнего региона клиента, внешний ключ, отсылающий к таблице `location`;\n",
        "    - `age_gr_id` - идентификатор возрастного сегмента клиента, внешний ключ, отсылающий к таблице `age_segment`;\n",
        "    - `tr_gr_id` - идентификатор сегмента клиента по объёму потребляемого трафика в месяц, внешний ключ, отсылающий к таблице `traffic_segment`;\n",
        "    - `lt_gr_id` - идентификатор сегмента клиента по количеству месяцев «жизни», внешний ключ, отсылающий к таблице `lifetime_segment`;\n",
        "    - `nps_score` - оценка клиента в NPS-опросе (от 1 до 10).\n",
        "- Таблица `location` (территории указанных услуг):\n",
        "    - `location_id`\t- идентификатор записи, первичный ключ;\n",
        "    - `country`\t- страна;\n",
        "    - `city` - город.\n",
        "- Таблица `age_segment` (возврастные сегменты клиентов):\n",
        "    - `age_gr_id`\tИдентификатор сегмента, первичный ключ;\n",
        "    - `bucket_min` - минимальная граница сегмента;\n",
        "    - `bucket_max` - максимальная граница сегмента;\n",
        "    - `title` - название сегмента.\n",
        "- Таблица `traffic_segment` (сегменты потребляемого трафика):\n",
        "    - `tr_gr_id` - идентификатор сегмента, первичный ключ;\n",
        "    - `bucket_min` - минимальная граница сегмента;\n",
        "    - `bucket_max` - максимальная граница сегмента;\n",
        "    - `title` - название сегмента.\n",
        "- Таблица `lifetime_segment` (сегменты месяцев жизни клиента):\n",
        "    - `lt_gr_id` - идентификатор сегмента, первичный ключ;\n",
        "    - `bucket_min` - минимальная граница сегмента;\n",
        "    - `bucket_max` - максимальная граница сегмента;\n",
        "    - `title` - название сегмента."
      ]
    },
    {
      "cell_type": "markdown",
      "id": "f9679244",
      "metadata": {
        "id": "f9679244"
      },
      "source": [
        "## Подготовка данных к работе"
      ]
    },
    {
      "cell_type": "markdown",
      "id": "e183b9f1",
      "metadata": {
        "id": "e183b9f1"
      },
      "source": [
        "### Импорт библиотек"
      ]
    },
    {
      "cell_type": "code",
      "execution_count": 2,
      "id": "fc7efa54",
      "metadata": {
        "id": "fc7efa54"
      },
      "outputs": [],
      "source": [
        "import os\n",
        "import pandas as pd\n",
        "import numpy as np\n",
        "\n",
        "from sqlalchemy import create_engine, text"
      ]
    },
    {
      "cell_type": "markdown",
      "id": "2add7495",
      "metadata": {
        "id": "2add7495"
      },
      "source": [
        "### Подключение к базам данных, а также подготовка таблицы к работе"
      ]
    },
    {
      "cell_type": "markdown",
      "source": [
        "Для начала подключим базу данных"
      ],
      "metadata": {
        "id": "z23rgCkAt-Jx"
      },
      "id": "z23rgCkAt-Jx"
    },
    {
      "cell_type": "code",
      "source": [
        "path_to_db_local = 'telecomm_csi.db'\n",
        "\n",
        "engine = create_engine(f'sqlite:///{path_to_db_local}', echo=False)"
      ],
      "metadata": {
        "id": "X18kIKvHtYSx"
      },
      "id": "X18kIKvHtYSx",
      "execution_count": 3,
      "outputs": []
    },
    {
      "cell_type": "markdown",
      "source": [
        "База данных загружена. На данный момент можно приступать к формированию запроса"
      ],
      "metadata": {
        "id": "PIzsqgYDuCcl"
      },
      "id": "PIzsqgYDuCcl"
    },
    {
      "cell_type": "code",
      "execution_count": 4,
      "id": "84ebad43",
      "metadata": {
        "id": "84ebad43"
      },
      "outputs": [],
      "source": [
        "with engine.begin() as conn:\n",
        "    query = text(\"\"\"\n",
        "         SELECT u.user_id,\n",
        "                u.lt_day,\n",
        "                CASE\n",
        "                    WHEN u.lt_day <= 365 THEN 'Новый'\n",
        "                    WHEN u.lt_day > 365 THEN 'Старый'\n",
        "                END AS is_new,\n",
        "                CAST(u.age AS int) AS age,\n",
        "                CASE\n",
        "                    WHEN u.gender_segment = 1 THEN 'Женщина'\n",
        "                    WHEN u.gender_segment = 0 THEN 'Мужчина'\n",
        "                    ELSE 'Другой'\n",
        "                END AS gender_segment,\n",
        "                LOWER(u.os_name) AS os_name,\n",
        "                LOWER(u.cpe_type_name) AS cpe_type_name,\n",
        "                l.country,\n",
        "                l.city,\n",
        "                SUBSTRING(age.title, 3, length(age.title)-2) AS age_segment,\n",
        "                SUBSTRING(ts.title, 3, length(ts.title)-2) AS traffic_segment,\n",
        "                SUBSTRING(ls.title, 3, length(ls.title)-2) AS lifetime_segment,\n",
        "                u.nps_score,\n",
        "                CASE\n",
        "                    WHEN u.nps_score >= 9 AND u.nps_score <= 10 THEN 'Сторонники'\n",
        "                    WHEN u.nps_score >= 7 AND u.nps_score <= 8 THEN 'Нейтралы'\n",
        "                    WHEN u.nps_score >= 0 AND u.nps_score <= 6 THEN 'Критики'\n",
        "                  END AS nps_group\n",
        "                FROM user AS u\n",
        "                LEFT JOIN location AS l ON l.location_id = u.location_id\n",
        "                LEFT JOIN age_segment AS age ON age.age_gr_id = u.age_gr_id\n",
        "                LEFT JOIN traffic_segment AS ts ON ts.tr_gr_id = u.tr_gr_id\n",
        "                LEFT JOIN lifetime_segment AS ls ON ls.lt_gr_id = u.lt_gr_id\n",
        "                ;\n",
        "                \"\"\")\n",
        "    df = pd.read_sql_query(query, conn)"
      ]
    },
    {
      "cell_type": "markdown",
      "id": "b18c557f",
      "metadata": {
        "id": "b18c557f"
      },
      "source": [
        "Проверим итоговую таблицу"
      ]
    },
    {
      "cell_type": "code",
      "execution_count": 5,
      "id": "3965faf2",
      "metadata": {
        "id": "3965faf2",
        "outputId": "8aa93304-3c85-404c-fac4-cd91ef2a5c20",
        "colab": {
          "base_uri": "https://localhost:8080/",
          "height": 206
        }
      },
      "outputs": [
        {
          "output_type": "execute_result",
          "data": {
            "text/plain": [
              "  user_id  lt_day  is_new   age gender_segment  os_name cpe_type_name country  \\\n",
              "0  A001A2    2320  Старый  45.0        Женщина  android    smartphone  Россия   \n",
              "1  A001WF    2344  Старый  53.0        Мужчина  android    smartphone  Россия   \n",
              "2  A003Q7     467  Старый  57.0        Мужчина  android    smartphone  Россия   \n",
              "3  A004TB    4190  Старый  44.0        Женщина      ios    smartphone  Россия   \n",
              "4  A004XT    1163  Старый  24.0        Мужчина  android    smartphone  Россия   \n",
              "\n",
              "           city age_segment traffic_segment lifetime_segment  nps_score  \\\n",
              "0           Уфа       45-54             1-5              36+         10   \n",
              "1         Киров       45-54             1-5              36+         10   \n",
              "2        Москва       55-64           20-25            13-24         10   \n",
              "3  РостовнаДону       35-44           0.1-1              36+         10   \n",
              "4        Рязань       16-24            5-10              36+         10   \n",
              "\n",
              "    nps_group  \n",
              "0  Сторонники  \n",
              "1  Сторонники  \n",
              "2  Сторонники  \n",
              "3  Сторонники  \n",
              "4  Сторонники  "
            ],
            "text/html": [
              "\n",
              "  <div id=\"df-5e037321-7db9-4aa6-8ffd-d460314b4ccd\" class=\"colab-df-container\">\n",
              "    <div>\n",
              "<style scoped>\n",
              "    .dataframe tbody tr th:only-of-type {\n",
              "        vertical-align: middle;\n",
              "    }\n",
              "\n",
              "    .dataframe tbody tr th {\n",
              "        vertical-align: top;\n",
              "    }\n",
              "\n",
              "    .dataframe thead th {\n",
              "        text-align: right;\n",
              "    }\n",
              "</style>\n",
              "<table border=\"1\" class=\"dataframe\">\n",
              "  <thead>\n",
              "    <tr style=\"text-align: right;\">\n",
              "      <th></th>\n",
              "      <th>user_id</th>\n",
              "      <th>lt_day</th>\n",
              "      <th>is_new</th>\n",
              "      <th>age</th>\n",
              "      <th>gender_segment</th>\n",
              "      <th>os_name</th>\n",
              "      <th>cpe_type_name</th>\n",
              "      <th>country</th>\n",
              "      <th>city</th>\n",
              "      <th>age_segment</th>\n",
              "      <th>traffic_segment</th>\n",
              "      <th>lifetime_segment</th>\n",
              "      <th>nps_score</th>\n",
              "      <th>nps_group</th>\n",
              "    </tr>\n",
              "  </thead>\n",
              "  <tbody>\n",
              "    <tr>\n",
              "      <th>0</th>\n",
              "      <td>A001A2</td>\n",
              "      <td>2320</td>\n",
              "      <td>Старый</td>\n",
              "      <td>45.0</td>\n",
              "      <td>Женщина</td>\n",
              "      <td>android</td>\n",
              "      <td>smartphone</td>\n",
              "      <td>Россия</td>\n",
              "      <td>Уфа</td>\n",
              "      <td>45-54</td>\n",
              "      <td>1-5</td>\n",
              "      <td>36+</td>\n",
              "      <td>10</td>\n",
              "      <td>Сторонники</td>\n",
              "    </tr>\n",
              "    <tr>\n",
              "      <th>1</th>\n",
              "      <td>A001WF</td>\n",
              "      <td>2344</td>\n",
              "      <td>Старый</td>\n",
              "      <td>53.0</td>\n",
              "      <td>Мужчина</td>\n",
              "      <td>android</td>\n",
              "      <td>smartphone</td>\n",
              "      <td>Россия</td>\n",
              "      <td>Киров</td>\n",
              "      <td>45-54</td>\n",
              "      <td>1-5</td>\n",
              "      <td>36+</td>\n",
              "      <td>10</td>\n",
              "      <td>Сторонники</td>\n",
              "    </tr>\n",
              "    <tr>\n",
              "      <th>2</th>\n",
              "      <td>A003Q7</td>\n",
              "      <td>467</td>\n",
              "      <td>Старый</td>\n",
              "      <td>57.0</td>\n",
              "      <td>Мужчина</td>\n",
              "      <td>android</td>\n",
              "      <td>smartphone</td>\n",
              "      <td>Россия</td>\n",
              "      <td>Москва</td>\n",
              "      <td>55-64</td>\n",
              "      <td>20-25</td>\n",
              "      <td>13-24</td>\n",
              "      <td>10</td>\n",
              "      <td>Сторонники</td>\n",
              "    </tr>\n",
              "    <tr>\n",
              "      <th>3</th>\n",
              "      <td>A004TB</td>\n",
              "      <td>4190</td>\n",
              "      <td>Старый</td>\n",
              "      <td>44.0</td>\n",
              "      <td>Женщина</td>\n",
              "      <td>ios</td>\n",
              "      <td>smartphone</td>\n",
              "      <td>Россия</td>\n",
              "      <td>РостовнаДону</td>\n",
              "      <td>35-44</td>\n",
              "      <td>0.1-1</td>\n",
              "      <td>36+</td>\n",
              "      <td>10</td>\n",
              "      <td>Сторонники</td>\n",
              "    </tr>\n",
              "    <tr>\n",
              "      <th>4</th>\n",
              "      <td>A004XT</td>\n",
              "      <td>1163</td>\n",
              "      <td>Старый</td>\n",
              "      <td>24.0</td>\n",
              "      <td>Мужчина</td>\n",
              "      <td>android</td>\n",
              "      <td>smartphone</td>\n",
              "      <td>Россия</td>\n",
              "      <td>Рязань</td>\n",
              "      <td>16-24</td>\n",
              "      <td>5-10</td>\n",
              "      <td>36+</td>\n",
              "      <td>10</td>\n",
              "      <td>Сторонники</td>\n",
              "    </tr>\n",
              "  </tbody>\n",
              "</table>\n",
              "</div>\n",
              "    <div class=\"colab-df-buttons\">\n",
              "\n",
              "  <div class=\"colab-df-container\">\n",
              "    <button class=\"colab-df-convert\" onclick=\"convertToInteractive('df-5e037321-7db9-4aa6-8ffd-d460314b4ccd')\"\n",
              "            title=\"Convert this dataframe to an interactive table.\"\n",
              "            style=\"display:none;\">\n",
              "\n",
              "  <svg xmlns=\"http://www.w3.org/2000/svg\" height=\"24px\" viewBox=\"0 -960 960 960\">\n",
              "    <path d=\"M120-120v-720h720v720H120Zm60-500h600v-160H180v160Zm220 220h160v-160H400v160Zm0 220h160v-160H400v160ZM180-400h160v-160H180v160Zm440 0h160v-160H620v160ZM180-180h160v-160H180v160Zm440 0h160v-160H620v160Z\"/>\n",
              "  </svg>\n",
              "    </button>\n",
              "\n",
              "  <style>\n",
              "    .colab-df-container {\n",
              "      display:flex;\n",
              "      gap: 12px;\n",
              "    }\n",
              "\n",
              "    .colab-df-convert {\n",
              "      background-color: #E8F0FE;\n",
              "      border: none;\n",
              "      border-radius: 50%;\n",
              "      cursor: pointer;\n",
              "      display: none;\n",
              "      fill: #1967D2;\n",
              "      height: 32px;\n",
              "      padding: 0 0 0 0;\n",
              "      width: 32px;\n",
              "    }\n",
              "\n",
              "    .colab-df-convert:hover {\n",
              "      background-color: #E2EBFA;\n",
              "      box-shadow: 0px 1px 2px rgba(60, 64, 67, 0.3), 0px 1px 3px 1px rgba(60, 64, 67, 0.15);\n",
              "      fill: #174EA6;\n",
              "    }\n",
              "\n",
              "    .colab-df-buttons div {\n",
              "      margin-bottom: 4px;\n",
              "    }\n",
              "\n",
              "    [theme=dark] .colab-df-convert {\n",
              "      background-color: #3B4455;\n",
              "      fill: #D2E3FC;\n",
              "    }\n",
              "\n",
              "    [theme=dark] .colab-df-convert:hover {\n",
              "      background-color: #434B5C;\n",
              "      box-shadow: 0px 1px 3px 1px rgba(0, 0, 0, 0.15);\n",
              "      filter: drop-shadow(0px 1px 2px rgba(0, 0, 0, 0.3));\n",
              "      fill: #FFFFFF;\n",
              "    }\n",
              "  </style>\n",
              "\n",
              "    <script>\n",
              "      const buttonEl =\n",
              "        document.querySelector('#df-5e037321-7db9-4aa6-8ffd-d460314b4ccd button.colab-df-convert');\n",
              "      buttonEl.style.display =\n",
              "        google.colab.kernel.accessAllowed ? 'block' : 'none';\n",
              "\n",
              "      async function convertToInteractive(key) {\n",
              "        const element = document.querySelector('#df-5e037321-7db9-4aa6-8ffd-d460314b4ccd');\n",
              "        const dataTable =\n",
              "          await google.colab.kernel.invokeFunction('convertToInteractive',\n",
              "                                                    [key], {});\n",
              "        if (!dataTable) return;\n",
              "\n",
              "        const docLinkHtml = 'Like what you see? Visit the ' +\n",
              "          '<a target=\"_blank\" href=https://colab.research.google.com/notebooks/data_table.ipynb>data table notebook</a>'\n",
              "          + ' to learn more about interactive tables.';\n",
              "        element.innerHTML = '';\n",
              "        dataTable['output_type'] = 'display_data';\n",
              "        await google.colab.output.renderOutput(dataTable, element);\n",
              "        const docLink = document.createElement('div');\n",
              "        docLink.innerHTML = docLinkHtml;\n",
              "        element.appendChild(docLink);\n",
              "      }\n",
              "    </script>\n",
              "  </div>\n",
              "\n",
              "\n",
              "<div id=\"df-c0ed5292-ff40-4bea-bacf-5b39a071e5d5\">\n",
              "  <button class=\"colab-df-quickchart\" onclick=\"quickchart('df-c0ed5292-ff40-4bea-bacf-5b39a071e5d5')\"\n",
              "            title=\"Suggest charts\"\n",
              "            style=\"display:none;\">\n",
              "\n",
              "<svg xmlns=\"http://www.w3.org/2000/svg\" height=\"24px\"viewBox=\"0 0 24 24\"\n",
              "     width=\"24px\">\n",
              "    <g>\n",
              "        <path d=\"M19 3H5c-1.1 0-2 .9-2 2v14c0 1.1.9 2 2 2h14c1.1 0 2-.9 2-2V5c0-1.1-.9-2-2-2zM9 17H7v-7h2v7zm4 0h-2V7h2v10zm4 0h-2v-4h2v4z\"/>\n",
              "    </g>\n",
              "</svg>\n",
              "  </button>\n",
              "\n",
              "<style>\n",
              "  .colab-df-quickchart {\n",
              "      --bg-color: #E8F0FE;\n",
              "      --fill-color: #1967D2;\n",
              "      --hover-bg-color: #E2EBFA;\n",
              "      --hover-fill-color: #174EA6;\n",
              "      --disabled-fill-color: #AAA;\n",
              "      --disabled-bg-color: #DDD;\n",
              "  }\n",
              "\n",
              "  [theme=dark] .colab-df-quickchart {\n",
              "      --bg-color: #3B4455;\n",
              "      --fill-color: #D2E3FC;\n",
              "      --hover-bg-color: #434B5C;\n",
              "      --hover-fill-color: #FFFFFF;\n",
              "      --disabled-bg-color: #3B4455;\n",
              "      --disabled-fill-color: #666;\n",
              "  }\n",
              "\n",
              "  .colab-df-quickchart {\n",
              "    background-color: var(--bg-color);\n",
              "    border: none;\n",
              "    border-radius: 50%;\n",
              "    cursor: pointer;\n",
              "    display: none;\n",
              "    fill: var(--fill-color);\n",
              "    height: 32px;\n",
              "    padding: 0;\n",
              "    width: 32px;\n",
              "  }\n",
              "\n",
              "  .colab-df-quickchart:hover {\n",
              "    background-color: var(--hover-bg-color);\n",
              "    box-shadow: 0 1px 2px rgba(60, 64, 67, 0.3), 0 1px 3px 1px rgba(60, 64, 67, 0.15);\n",
              "    fill: var(--button-hover-fill-color);\n",
              "  }\n",
              "\n",
              "  .colab-df-quickchart-complete:disabled,\n",
              "  .colab-df-quickchart-complete:disabled:hover {\n",
              "    background-color: var(--disabled-bg-color);\n",
              "    fill: var(--disabled-fill-color);\n",
              "    box-shadow: none;\n",
              "  }\n",
              "\n",
              "  .colab-df-spinner {\n",
              "    border: 2px solid var(--fill-color);\n",
              "    border-color: transparent;\n",
              "    border-bottom-color: var(--fill-color);\n",
              "    animation:\n",
              "      spin 1s steps(1) infinite;\n",
              "  }\n",
              "\n",
              "  @keyframes spin {\n",
              "    0% {\n",
              "      border-color: transparent;\n",
              "      border-bottom-color: var(--fill-color);\n",
              "      border-left-color: var(--fill-color);\n",
              "    }\n",
              "    20% {\n",
              "      border-color: transparent;\n",
              "      border-left-color: var(--fill-color);\n",
              "      border-top-color: var(--fill-color);\n",
              "    }\n",
              "    30% {\n",
              "      border-color: transparent;\n",
              "      border-left-color: var(--fill-color);\n",
              "      border-top-color: var(--fill-color);\n",
              "      border-right-color: var(--fill-color);\n",
              "    }\n",
              "    40% {\n",
              "      border-color: transparent;\n",
              "      border-right-color: var(--fill-color);\n",
              "      border-top-color: var(--fill-color);\n",
              "    }\n",
              "    60% {\n",
              "      border-color: transparent;\n",
              "      border-right-color: var(--fill-color);\n",
              "    }\n",
              "    80% {\n",
              "      border-color: transparent;\n",
              "      border-right-color: var(--fill-color);\n",
              "      border-bottom-color: var(--fill-color);\n",
              "    }\n",
              "    90% {\n",
              "      border-color: transparent;\n",
              "      border-bottom-color: var(--fill-color);\n",
              "    }\n",
              "  }\n",
              "</style>\n",
              "\n",
              "  <script>\n",
              "    async function quickchart(key) {\n",
              "      const quickchartButtonEl =\n",
              "        document.querySelector('#' + key + ' button');\n",
              "      quickchartButtonEl.disabled = true;  // To prevent multiple clicks.\n",
              "      quickchartButtonEl.classList.add('colab-df-spinner');\n",
              "      try {\n",
              "        const charts = await google.colab.kernel.invokeFunction(\n",
              "            'suggestCharts', [key], {});\n",
              "      } catch (error) {\n",
              "        console.error('Error during call to suggestCharts:', error);\n",
              "      }\n",
              "      quickchartButtonEl.classList.remove('colab-df-spinner');\n",
              "      quickchartButtonEl.classList.add('colab-df-quickchart-complete');\n",
              "    }\n",
              "    (() => {\n",
              "      let quickchartButtonEl =\n",
              "        document.querySelector('#df-c0ed5292-ff40-4bea-bacf-5b39a071e5d5 button');\n",
              "      quickchartButtonEl.style.display =\n",
              "        google.colab.kernel.accessAllowed ? 'block' : 'none';\n",
              "    })();\n",
              "  </script>\n",
              "</div>\n",
              "    </div>\n",
              "  </div>\n"
            ]
          },
          "metadata": {},
          "execution_count": 5
        }
      ],
      "source": [
        "df.head(5)"
      ]
    },
    {
      "cell_type": "code",
      "execution_count": null,
      "id": "9db04858",
      "metadata": {
        "id": "9db04858"
      },
      "outputs": [],
      "source": [
        "df.to_csv('telecomm_csi_tableau.csv', index=False)"
      ]
    },
    {
      "cell_type": "markdown",
      "id": "dc061209",
      "metadata": {
        "id": "dc061209"
      },
      "source": [
        "**Промежуточный итог:**\n",
        "\n",
        "В ходе подготовки данных была построена едининая таблица с данными, в которую вошли поля:\n",
        "- user_id;\n",
        "- lt_day;\n",
        "- age;\n",
        "- gender_segment - \"1\" изменена на \"Женщина\", \"0\" - на \"Мужчина\";\n",
        "- os_name - приведена к нижнему регистру;\n",
        "- cpe_type_name - приведена к нижнему регистру;\n",
        "- country;\n",
        "- city;\n",
        "- age_segment - убрано начало строки с порядковым номером группы;\n",
        "- traffic_segment - убрано начало строки с порядковым номером группы;\n",
        "- lifetime_segment - убрано начало строки с порядковым номером группы;\n",
        "- nps_score.\n",
        "\n",
        "В таблицу добавлены новые колонки:\n",
        "- is_new - определение нового и старого клиента;\n",
        "- nps_group - определение группы лояльности пользователя (сторонники, нейтралы, критики) в зависимости от оценок."
      ]
    },
    {
      "cell_type": "markdown",
      "id": "3a6dfd97",
      "metadata": {
        "id": "3a6dfd97"
      },
      "source": [
        "## Дашборды в Tableau"
      ]
    },
    {
      "cell_type": "markdown",
      "id": "fc48022c",
      "metadata": {
        "id": "fc48022c"
      },
      "source": [
        "https://public.tableau.com/app/profile/nikita.levin/viz/Yandex_project_2_17014578898260/sheet23?publish=yes"
      ]
    },
    {
      "cell_type": "markdown",
      "id": "a4c841ee",
      "metadata": {
        "id": "a4c841ee"
      },
      "source": [
        "**Описание дашбордов:**\n",
        "\n",
        "1. Обозначение целей и задач исследования.\n",
        "2. Ознакомление с данными:\n",
        "    - Карта с наиболее популярными городами по количеству опрошенных пользователей;\n",
        "    - Гистрограмма распределения пользователей по возрасту;\n",
        "    - Диаграмма с областями распределения пользователей по возрасту в разрезе их пола;\n",
        "    - Соотношение новых и старых клиентов.\n",
        "3. Лояльность клиентов (все графики/таблицы строились с разрезом по группе лояльности):\n",
        "    - Столбчатая диаграмма по доле пользователей и групп возраста;\n",
        "    - График лояльности по доле пользователей и трафику;\n",
        "    - Столбатая диаграмма по доле пользователей и лайфтайма пользователя;\n",
        "    - Таблица распределения новых и старых клиентов;\n",
        "    - Таблица распределения по полу пользователей.\n",
        "4. Уровень NPS среди опрошенных:\n",
        "    - Соотношение критиков и сторонников;\n",
        "    - Общий уровень NPS;\n",
        "    - Столбчатая диаграмма по уровню NPS и используемого ОП в разерезе новых и старых клиентов;\n",
        "    - Диаграмма 10 популярных городов по уровню NPS в разрезе пола клиентов.\n",
        "5. Сторонники компании:\n",
        "    - Соотношение женщин и мужчин сторонников;\n",
        "    - Соотношение новых и старых клиентов сторонников;\n",
        "    - 10 популярных городов сторонников;\n",
        "    - Древовидная карта групп возраста стронников;\n",
        "    - Таблица с используемыми ОП сторонников;\n",
        "    - Таблица с устройствами сторонников.\n",
        "6. Общие выводы по исследованию."
      ]
    },
    {
      "cell_type": "markdown",
      "id": "dd1adde5",
      "metadata": {
        "id": "dd1adde5"
      },
      "source": [
        "## **Общий вывод по проекту:**\n",
        "\n",
        "Проект разбит на 3 этапа:\n",
        "\n",
        "**Первый этап:**\n",
        "\n",
        "Были подготовлены данные, собранные из нескольких таблиц.\n",
        "\n",
        "Некоторые колонки были преобразованы:\n",
        "- gender_segment - \"1\" изменена на \"Женщина\", \"0\" - на \"Мужчина\";\n",
        "- os_name - приведена к нижнему регистру;\n",
        "- cpe_type_name - приведена к нижнему регистру;\n",
        "- age_segment - убрано начало строки с порядковым номером группы;\n",
        "- traffic_segment - убрано начало строки с порядковым номером группы;\n",
        "- lifetime_segment - убрано начало строки с порядковым номером группы.\n",
        "\n",
        "Также были добавлены новые колонки:\n",
        "- is_new - определение нового и старого клиента;\n",
        "- nps_group - определение группы лояльности пользователя (сторонники, нейтралы, критики) в зависимости от оценок.\n",
        "\n",
        "**Второй этап:**\n",
        "\n",
        "Были построены дашборды в Tableau, которые отвечают на вопросы:\n",
        "\n",
        "- Как распределены участники опроса по возрасту и полу?\n",
        "    - Самый популярный возраст среди клиентов - 34 года, чаще всего возраст клиентов составляет от 27 лет до 41 года;\n",
        "    - Разница в распределении мужчин и женщин в опросе составляет не более 5%, при этом женщин больше;\n",
        "- Каких пользователей больше: новых или старых?\n",
        "    - Старых пользователей больше - 83%, новых - 17%;\n",
        "- Пользователи из каких городов активнее участвовали в опросе?\n",
        "    - Чаще всего в опросах принимали участие клиенты в Москве (13% от всех пользователей), Санкт-Петербурге (5.9% от всех пользователей) и Новосибирске (5.3% от всех пользователей);\n",
        "- Какие группы пользователей наиболее лояльны к сервису? Какие менее?\n",
        "    - Новые клиенты лояльнее;\n",
        "    - Лояльные клиенты чаще в группах от 35 до 44 лет (17%), самые критикующие клиенты более молодые - от 25 до 34 лет (11%);\n",
        "    - Разность лояльности клиентов между сторонниками и критиками в разрезе лайфтайма достигает в 2 раза. Больше всего критиков и сторонников в категории 36+ - 18% против 26% соответственно;\n",
        "    - Чаще всего клиенты являются сторонниками вне зависимости от трафика. Больше всего сторонников и критиков находится в границах потребления трафика 5-10 и составляет 12% и 6% соответственно;\n",
        "- Какой общий NPS среди всех опрошенных?\n",
        "    - Общий уровень без каких-либо разрезов составляет 22%;\n",
        "    - Всего сторонников сервиса 63%, всего критиков сервиса 37% без каких-либо разрезов;\n",
        "    - Самый высокий общий уровень NPS находится в Иваново - 47%. Самый низкий в Воронеже - 4%. Среди мужчин присутсвует отрицательный уровень NPS, так же в Воронеже - -2%;\n",
        "    - У новых клиентов в среднем уровень NPS выше, чем у старых. У новых уровень составляет 35%, у старых - 19%;\n",
        "    - Самый низкий уровень NPS возникает у любых клиентов (старых или новых) с системой \"ios\". Наивысший уровень у пользователей с системами \"bada os\" (60% у старых клиентов), \"symbain os\" (52% у новых клиентов и 30% у старых клиентов), \"proprietary\" (47% у новых клиентов и 33% у старых клиентов);\n",
        "    - Стоит отметить, чаще чем старше пользователь, тем выше уровень NPS. Так у пользователей старше 70 уровень NPS выше 50%, а у пользователей 11, 14, 15 лет уровень NPS ниже 0.\n",
        "- Как можно описать клиентов, которые относятся к группе cторонников (англ. promoters)?\n",
        "    - Типичному стороннику от 25 до 44 лет.\n",
        "    - У данного сторонника с высокой вероятность смартфон (таких пользователей 96%) на ОП \"Android\" (таких пользователей 88%);\n",
        "    - Вероятнее такой пользователь будет находиться в Москве;\n",
        "    - Большинство сторонников являются давнишими (80% от всех сторонников);\n",
        "    - Вероятнее таким пользователем будет женщина (57%), тем не менее пользователей мужчин составляет (43%).\n",
        "    \n",
        "**Третий этап:**    \n",
        "\n",
        "Рекомендации к повышению уровня анализируемого NPS:\n",
        "- Стоит обратить внимание на пользователей мужчин, так как женщины больше пользуются сервисом, они чаще являются сторонниками и у них выше уровень NPS;\n",
        "- Также уровень NPS можно поднять посредством повышения лояльности среди новых клиентов. Новых клиентов всего 17%, новых клиентов сторонников - 19%;\n",
        "- Такими новыми клиентами могут оказаться молодые пользователи от 16 до 24. Так как такой категории клиентов уделяется меньше внимание. Из них сторонники ~5% пользователей;\n",
        "- Можно попробовать продолжить развивать другие ниши среди продуктов компании (для телефонов, роутеров и тд). Так как среди сторонников 96% пользуются смартфонами, отсюда можно сделать вывод, что другие категории не являются развитыми;\n",
        "- При такой доле сторонников среди смартфонов преобладает ОП только «android» - 88%. Если развивать далее услуги для смартфонов, то можно уделить внимание другим ОП."
      ]
    }
  ],
  "metadata": {
    "ExecuteTimeLog": [
      {
        "duration": 551,
        "start_time": "2023-11-30T19:02:16.150Z"
      },
      {
        "duration": 84,
        "start_time": "2023-11-30T19:02:17.806Z"
      },
      {
        "duration": 106,
        "start_time": "2023-11-30T19:02:19.673Z"
      },
      {
        "duration": 63,
        "start_time": "2023-11-30T19:02:20.787Z"
      },
      {
        "duration": 3,
        "start_time": "2023-11-30T19:04:04.493Z"
      },
      {
        "duration": 2,
        "start_time": "2023-11-30T19:04:54.455Z"
      },
      {
        "duration": 547,
        "start_time": "2023-11-30T19:05:01.718Z"
      },
      {
        "duration": 99,
        "start_time": "2023-11-30T19:05:02.267Z"
      },
      {
        "duration": 3,
        "start_time": "2023-11-30T19:05:02.367Z"
      },
      {
        "duration": 4129,
        "start_time": "2023-11-30T19:05:02.372Z"
      },
      {
        "duration": 3221,
        "start_time": "2023-11-30T19:05:06.503Z"
      },
      {
        "duration": 3,
        "start_time": "2023-11-30T20:12:37.322Z"
      },
      {
        "duration": 412,
        "start_time": "2023-11-30T20:12:40.439Z"
      },
      {
        "duration": 3,
        "start_time": "2023-11-30T20:12:54.796Z"
      },
      {
        "duration": 346,
        "start_time": "2023-11-30T20:12:57.594Z"
      },
      {
        "duration": 3,
        "start_time": "2023-11-30T20:17:17.229Z"
      },
      {
        "duration": 3,
        "start_time": "2023-11-30T20:19:16.564Z"
      },
      {
        "duration": 349,
        "start_time": "2023-11-30T20:19:19.452Z"
      },
      {
        "duration": 3,
        "start_time": "2023-11-30T20:21:21.823Z"
      },
      {
        "duration": 348,
        "start_time": "2023-11-30T20:21:22.888Z"
      },
      {
        "duration": 2,
        "start_time": "2023-11-30T20:21:50.419Z"
      },
      {
        "duration": 2769,
        "start_time": "2023-11-30T20:21:52.071Z"
      },
      {
        "duration": 3,
        "start_time": "2023-11-30T20:22:15.077Z"
      },
      {
        "duration": 2990,
        "start_time": "2023-11-30T20:22:16.645Z"
      },
      {
        "duration": 3,
        "start_time": "2023-11-30T20:22:43.265Z"
      },
      {
        "duration": 3017,
        "start_time": "2023-11-30T20:22:45.374Z"
      },
      {
        "duration": 3,
        "start_time": "2023-11-30T20:24:57.566Z"
      },
      {
        "duration": 349,
        "start_time": "2023-11-30T20:24:57.990Z"
      },
      {
        "duration": 2,
        "start_time": "2023-11-30T20:25:19.926Z"
      },
      {
        "duration": 3533,
        "start_time": "2023-11-30T20:25:20.229Z"
      },
      {
        "duration": 3,
        "start_time": "2023-11-30T20:25:29.359Z"
      },
      {
        "duration": 3,
        "start_time": "2023-11-30T20:25:42.599Z"
      },
      {
        "duration": 3880,
        "start_time": "2023-11-30T20:25:44.114Z"
      },
      {
        "duration": 3,
        "start_time": "2023-11-30T20:26:35.719Z"
      },
      {
        "duration": 3903,
        "start_time": "2023-11-30T20:26:36.230Z"
      },
      {
        "duration": 4,
        "start_time": "2023-11-30T20:33:27.273Z"
      },
      {
        "duration": 369,
        "start_time": "2023-11-30T20:33:29.453Z"
      },
      {
        "duration": 3,
        "start_time": "2023-11-30T20:34:22.866Z"
      },
      {
        "duration": 361,
        "start_time": "2023-11-30T20:34:23.402Z"
      },
      {
        "duration": 2,
        "start_time": "2023-11-30T20:35:23.000Z"
      },
      {
        "duration": 374,
        "start_time": "2023-11-30T20:35:24.409Z"
      },
      {
        "duration": 3,
        "start_time": "2023-11-30T20:35:46.255Z"
      },
      {
        "duration": 337,
        "start_time": "2023-11-30T20:35:46.980Z"
      },
      {
        "duration": 2,
        "start_time": "2023-11-30T20:36:11.395Z"
      },
      {
        "duration": 350,
        "start_time": "2023-11-30T20:36:12.037Z"
      },
      {
        "duration": 3,
        "start_time": "2023-11-30T20:36:23.933Z"
      },
      {
        "duration": 3878,
        "start_time": "2023-11-30T20:36:24.617Z"
      },
      {
        "duration": 3,
        "start_time": "2023-11-30T20:36:42.850Z"
      },
      {
        "duration": 579,
        "start_time": "2023-11-30T20:36:43.140Z"
      },
      {
        "duration": 2,
        "start_time": "2023-11-30T20:37:14.956Z"
      },
      {
        "duration": 593,
        "start_time": "2023-11-30T20:37:15.486Z"
      },
      {
        "duration": 3,
        "start_time": "2023-11-30T20:38:08.790Z"
      },
      {
        "duration": 4826,
        "start_time": "2023-11-30T20:38:09.388Z"
      },
      {
        "duration": 4,
        "start_time": "2023-11-30T20:39:01.979Z"
      },
      {
        "duration": 510,
        "start_time": "2023-11-30T20:39:03.520Z"
      },
      {
        "duration": 492,
        "start_time": "2023-11-30T20:39:35.831Z"
      },
      {
        "duration": 498,
        "start_time": "2023-11-30T20:39:51.392Z"
      },
      {
        "duration": 4,
        "start_time": "2023-11-30T20:45:17.108Z"
      },
      {
        "duration": 3,
        "start_time": "2023-11-30T20:45:19.911Z"
      },
      {
        "duration": 4415,
        "start_time": "2023-11-30T20:45:21.052Z"
      },
      {
        "duration": 3,
        "start_time": "2023-11-30T20:47:07.271Z"
      },
      {
        "duration": 489,
        "start_time": "2023-11-30T20:47:08.434Z"
      },
      {
        "duration": 497,
        "start_time": "2023-11-30T20:47:13.016Z"
      },
      {
        "duration": 3,
        "start_time": "2023-11-30T20:48:00.723Z"
      },
      {
        "duration": 501,
        "start_time": "2023-11-30T20:48:01.531Z"
      },
      {
        "duration": 3,
        "start_time": "2023-11-30T20:56:02.541Z"
      },
      {
        "duration": 498,
        "start_time": "2023-11-30T20:56:03.375Z"
      },
      {
        "duration": 3,
        "start_time": "2023-11-30T20:58:43.143Z"
      },
      {
        "duration": 359,
        "start_time": "2023-11-30T20:58:43.421Z"
      },
      {
        "duration": 4,
        "start_time": "2023-11-30T20:58:53.998Z"
      },
      {
        "duration": 4652,
        "start_time": "2023-11-30T20:58:54.583Z"
      },
      {
        "duration": 3,
        "start_time": "2023-11-30T21:00:22.428Z"
      },
      {
        "duration": 343,
        "start_time": "2023-11-30T21:00:24.298Z"
      },
      {
        "duration": 3,
        "start_time": "2023-11-30T21:00:33.795Z"
      },
      {
        "duration": 342,
        "start_time": "2023-11-30T21:00:34.818Z"
      },
      {
        "duration": 3,
        "start_time": "2023-11-30T21:00:47.887Z"
      },
      {
        "duration": 338,
        "start_time": "2023-11-30T21:00:48.627Z"
      },
      {
        "duration": 3,
        "start_time": "2023-11-30T21:01:03.902Z"
      },
      {
        "duration": 345,
        "start_time": "2023-11-30T21:01:04.334Z"
      },
      {
        "duration": 3,
        "start_time": "2023-11-30T21:01:25.330Z"
      },
      {
        "duration": 498,
        "start_time": "2023-11-30T21:01:25.633Z"
      },
      {
        "duration": 2,
        "start_time": "2023-11-30T21:02:33.226Z"
      },
      {
        "duration": 78,
        "start_time": "2023-11-30T21:02:33.389Z"
      },
      {
        "duration": 497,
        "start_time": "2023-11-30T21:02:36.333Z"
      },
      {
        "duration": 3,
        "start_time": "2023-11-30T21:03:03.181Z"
      },
      {
        "duration": 71,
        "start_time": "2023-11-30T21:03:03.299Z"
      },
      {
        "duration": 496,
        "start_time": "2023-11-30T21:03:06.404Z"
      },
      {
        "duration": 3,
        "start_time": "2023-11-30T21:03:53.485Z"
      },
      {
        "duration": 77,
        "start_time": "2023-11-30T21:03:53.830Z"
      },
      {
        "duration": 493,
        "start_time": "2023-11-30T21:03:54.965Z"
      },
      {
        "duration": 3,
        "start_time": "2023-11-30T21:04:05.100Z"
      },
      {
        "duration": 74,
        "start_time": "2023-11-30T21:04:05.301Z"
      },
      {
        "duration": 496,
        "start_time": "2023-11-30T21:04:06.007Z"
      },
      {
        "duration": 3,
        "start_time": "2023-11-30T21:04:50.105Z"
      },
      {
        "duration": 67,
        "start_time": "2023-11-30T21:04:50.235Z"
      },
      {
        "duration": 496,
        "start_time": "2023-11-30T21:04:52.046Z"
      },
      {
        "duration": 4,
        "start_time": "2023-11-30T21:05:37.194Z"
      },
      {
        "duration": 67,
        "start_time": "2023-11-30T21:05:37.377Z"
      },
      {
        "duration": 49,
        "start_time": "2023-11-30T21:06:13.888Z"
      },
      {
        "duration": 554,
        "start_time": "2023-11-30T21:06:18.424Z"
      },
      {
        "duration": 63,
        "start_time": "2023-11-30T21:06:18.980Z"
      },
      {
        "duration": 4,
        "start_time": "2023-11-30T21:06:19.231Z"
      },
      {
        "duration": 5371,
        "start_time": "2023-11-30T21:06:20.519Z"
      },
      {
        "duration": 2,
        "start_time": "2023-11-30T21:06:25.892Z"
      },
      {
        "duration": 3,
        "start_time": "2023-11-30T21:10:49.270Z"
      },
      {
        "duration": 611,
        "start_time": "2023-11-30T21:10:50.208Z"
      },
      {
        "duration": 3,
        "start_time": "2023-11-30T21:11:13.998Z"
      },
      {
        "duration": 585,
        "start_time": "2023-11-30T21:11:15.072Z"
      },
      {
        "duration": 3,
        "start_time": "2023-11-30T21:12:49.634Z"
      },
      {
        "duration": 576,
        "start_time": "2023-11-30T21:12:50.649Z"
      },
      {
        "duration": 3,
        "start_time": "2023-11-30T21:13:00.102Z"
      },
      {
        "duration": 829,
        "start_time": "2023-11-30T21:13:00.583Z"
      },
      {
        "duration": 3,
        "start_time": "2023-11-30T21:13:38.243Z"
      },
      {
        "duration": 3,
        "start_time": "2023-11-30T21:13:45.527Z"
      },
      {
        "duration": 828,
        "start_time": "2023-11-30T21:13:46.084Z"
      },
      {
        "duration": 3,
        "start_time": "2023-11-30T21:14:07.230Z"
      },
      {
        "duration": 866,
        "start_time": "2023-11-30T21:14:07.969Z"
      },
      {
        "duration": 3,
        "start_time": "2023-11-30T21:17:29.053Z"
      },
      {
        "duration": 577,
        "start_time": "2023-11-30T21:17:29.826Z"
      },
      {
        "duration": 3,
        "start_time": "2023-11-30T21:17:48.631Z"
      },
      {
        "duration": 269,
        "start_time": "2023-11-30T21:17:50.932Z"
      },
      {
        "duration": 3,
        "start_time": "2023-11-30T21:17:58.097Z"
      },
      {
        "duration": 4973,
        "start_time": "2023-11-30T21:17:58.900Z"
      },
      {
        "duration": 538,
        "start_time": "2023-12-01T15:47:22.510Z"
      },
      {
        "duration": 92,
        "start_time": "2023-12-01T15:47:23.050Z"
      },
      {
        "duration": 3,
        "start_time": "2023-12-01T15:47:23.144Z"
      },
      {
        "duration": 5483,
        "start_time": "2023-12-01T15:47:23.148Z"
      },
      {
        "duration": 3,
        "start_time": "2023-12-01T15:47:28.633Z"
      },
      {
        "duration": 3,
        "start_time": "2023-12-01T15:48:25.493Z"
      },
      {
        "duration": 3,
        "start_time": "2023-12-01T15:52:51.499Z"
      },
      {
        "duration": 1778,
        "start_time": "2023-12-01T15:52:54.012Z"
      },
      {
        "duration": 3,
        "start_time": "2023-12-01T15:55:39.195Z"
      },
      {
        "duration": 2232,
        "start_time": "2023-12-01T15:55:42.306Z"
      },
      {
        "duration": 512,
        "start_time": "2023-12-01T15:57:11.612Z"
      },
      {
        "duration": 73,
        "start_time": "2023-12-01T15:57:12.126Z"
      },
      {
        "duration": 4,
        "start_time": "2023-12-01T15:57:12.200Z"
      },
      {
        "duration": 5636,
        "start_time": "2023-12-01T15:57:12.205Z"
      },
      {
        "duration": 4397,
        "start_time": "2023-12-01T15:57:17.843Z"
      },
      {
        "duration": 3,
        "start_time": "2023-12-01T15:57:37.872Z"
      },
      {
        "duration": 5634,
        "start_time": "2023-12-01T15:57:38.439Z"
      },
      {
        "duration": 5636,
        "start_time": "2023-12-01T16:00:43.518Z"
      },
      {
        "duration": 525,
        "start_time": "2023-12-01T16:02:42.987Z"
      },
      {
        "duration": 73,
        "start_time": "2023-12-01T16:02:43.514Z"
      },
      {
        "duration": 3,
        "start_time": "2023-12-01T16:02:43.589Z"
      },
      {
        "duration": 5730,
        "start_time": "2023-12-01T16:02:43.593Z"
      },
      {
        "duration": 4529,
        "start_time": "2023-12-01T16:02:49.325Z"
      },
      {
        "duration": 3,
        "start_time": "2023-12-01T16:08:05.303Z"
      },
      {
        "duration": 5674,
        "start_time": "2023-12-01T16:08:05.601Z"
      },
      {
        "duration": 3,
        "start_time": "2023-12-01T16:08:58.422Z"
      },
      {
        "duration": 3392,
        "start_time": "2023-12-01T16:08:59.877Z"
      },
      {
        "duration": 3,
        "start_time": "2023-12-01T16:09:44.245Z"
      },
      {
        "duration": 1779,
        "start_time": "2023-12-01T16:09:45.407Z"
      },
      {
        "duration": 3,
        "start_time": "2023-12-01T16:10:00.090Z"
      },
      {
        "duration": 1902,
        "start_time": "2023-12-01T16:10:00.727Z"
      },
      {
        "duration": 3,
        "start_time": "2023-12-01T16:10:07.238Z"
      },
      {
        "duration": 1914,
        "start_time": "2023-12-01T16:10:07.982Z"
      },
      {
        "duration": 2,
        "start_time": "2023-12-01T16:10:15.889Z"
      },
      {
        "duration": 1796,
        "start_time": "2023-12-01T16:10:16.387Z"
      },
      {
        "duration": 3,
        "start_time": "2023-12-01T16:11:57.210Z"
      },
      {
        "duration": 575,
        "start_time": "2023-12-01T16:11:58.157Z"
      },
      {
        "duration": 3,
        "start_time": "2023-12-01T16:12:43.418Z"
      },
      {
        "duration": 642,
        "start_time": "2023-12-01T16:12:44.170Z"
      },
      {
        "duration": 3,
        "start_time": "2023-12-01T16:12:53.812Z"
      },
      {
        "duration": 1905,
        "start_time": "2023-12-01T16:12:54.297Z"
      },
      {
        "duration": 3,
        "start_time": "2023-12-01T16:13:44.097Z"
      },
      {
        "duration": 1781,
        "start_time": "2023-12-01T16:13:44.554Z"
      },
      {
        "duration": 3,
        "start_time": "2023-12-01T16:14:29.964Z"
      },
      {
        "duration": 1933,
        "start_time": "2023-12-01T16:14:30.677Z"
      },
      {
        "duration": 3,
        "start_time": "2023-12-01T16:14:51.102Z"
      },
      {
        "duration": 1931,
        "start_time": "2023-12-01T16:14:51.636Z"
      },
      {
        "duration": 3,
        "start_time": "2023-12-01T16:14:59.522Z"
      },
      {
        "duration": 1886,
        "start_time": "2023-12-01T16:15:00.000Z"
      },
      {
        "duration": 1868,
        "start_time": "2023-12-01T16:16:29.433Z"
      },
      {
        "duration": 3,
        "start_time": "2023-12-01T16:16:31.303Z"
      },
      {
        "duration": 3,
        "start_time": "2023-12-01T16:17:08.293Z"
      },
      {
        "duration": 1894,
        "start_time": "2023-12-01T16:17:09.252Z"
      },
      {
        "duration": 3,
        "start_time": "2023-12-01T16:17:21.151Z"
      },
      {
        "duration": 1846,
        "start_time": "2023-12-01T16:17:21.814Z"
      },
      {
        "duration": 3,
        "start_time": "2023-12-01T16:17:31.432Z"
      },
      {
        "duration": 1821,
        "start_time": "2023-12-01T16:17:31.947Z"
      },
      {
        "duration": 3,
        "start_time": "2023-12-01T16:17:59.061Z"
      },
      {
        "duration": 1885,
        "start_time": "2023-12-01T16:17:59.958Z"
      },
      {
        "duration": 4,
        "start_time": "2023-12-01T16:20:10.881Z"
      },
      {
        "duration": 1845,
        "start_time": "2023-12-01T16:20:11.666Z"
      },
      {
        "duration": 3,
        "start_time": "2023-12-01T16:20:30.457Z"
      },
      {
        "duration": 1926,
        "start_time": "2023-12-01T16:20:31.192Z"
      },
      {
        "duration": 3,
        "start_time": "2023-12-01T16:20:45.400Z"
      },
      {
        "duration": 3463,
        "start_time": "2023-12-01T16:20:45.904Z"
      },
      {
        "duration": 4,
        "start_time": "2023-12-01T16:21:25.682Z"
      },
      {
        "duration": 1663,
        "start_time": "2023-12-01T16:21:26.396Z"
      },
      {
        "duration": 3,
        "start_time": "2023-12-01T16:21:34.849Z"
      },
      {
        "duration": 1863,
        "start_time": "2023-12-01T16:21:35.440Z"
      },
      {
        "duration": 481,
        "start_time": "2023-12-01T16:22:41.176Z"
      },
      {
        "duration": 79,
        "start_time": "2023-12-01T16:22:41.659Z"
      },
      {
        "duration": 3,
        "start_time": "2023-12-01T16:22:41.740Z"
      },
      {
        "duration": 6333,
        "start_time": "2023-12-01T16:22:41.744Z"
      },
      {
        "duration": 4359,
        "start_time": "2023-12-01T16:22:48.078Z"
      },
      {
        "duration": 542,
        "start_time": "2023-12-01T16:24:15.793Z"
      },
      {
        "duration": 78,
        "start_time": "2023-12-01T16:24:16.337Z"
      },
      {
        "duration": 3,
        "start_time": "2023-12-01T16:24:16.417Z"
      },
      {
        "duration": 6350,
        "start_time": "2023-12-01T16:24:16.422Z"
      },
      {
        "duration": 4587,
        "start_time": "2023-12-01T16:24:22.774Z"
      },
      {
        "duration": 53,
        "start_time": "2023-12-02T19:52:05.542Z"
      },
      {
        "duration": 532,
        "start_time": "2023-12-02T20:15:04.152Z"
      },
      {
        "duration": 94,
        "start_time": "2023-12-02T20:15:04.685Z"
      },
      {
        "duration": 3,
        "start_time": "2023-12-02T20:15:04.781Z"
      },
      {
        "duration": 5984,
        "start_time": "2023-12-02T20:15:04.785Z"
      },
      {
        "duration": 3,
        "start_time": "2023-12-02T20:15:10.771Z"
      },
      {
        "duration": 558,
        "start_time": "2023-12-02T21:17:00.808Z"
      },
      {
        "duration": 78,
        "start_time": "2023-12-02T21:17:01.368Z"
      },
      {
        "duration": 3,
        "start_time": "2023-12-02T21:17:01.448Z"
      },
      {
        "duration": 5804,
        "start_time": "2023-12-02T21:17:01.453Z"
      },
      {
        "duration": 4726,
        "start_time": "2023-12-02T21:17:07.259Z"
      },
      {
        "duration": 542,
        "start_time": "2023-12-02T22:08:17.817Z"
      },
      {
        "duration": 70,
        "start_time": "2023-12-02T22:08:18.360Z"
      },
      {
        "duration": 3,
        "start_time": "2023-12-02T22:08:18.432Z"
      },
      {
        "duration": 6108,
        "start_time": "2023-12-02T22:08:18.438Z"
      },
      {
        "duration": 4729,
        "start_time": "2023-12-02T22:08:24.547Z"
      },
      {
        "duration": 874,
        "start_time": "2023-12-02T22:08:37.033Z"
      },
      {
        "duration": 515,
        "start_time": "2023-12-02T22:43:55.741Z"
      },
      {
        "duration": 73,
        "start_time": "2023-12-02T22:43:56.258Z"
      },
      {
        "duration": 3,
        "start_time": "2023-12-02T22:43:56.333Z"
      },
      {
        "duration": 6312,
        "start_time": "2023-12-02T22:43:56.338Z"
      },
      {
        "duration": 4895,
        "start_time": "2023-12-02T22:44:02.652Z"
      },
      {
        "duration": 7,
        "start_time": "2023-12-03T14:14:44.362Z"
      },
      {
        "duration": 40,
        "start_time": "2023-12-03T14:14:49.239Z"
      },
      {
        "duration": 468,
        "start_time": "2023-12-03T14:14:54.778Z"
      },
      {
        "duration": 94,
        "start_time": "2023-12-03T14:14:55.254Z"
      },
      {
        "duration": 3,
        "start_time": "2023-12-03T14:14:56.366Z"
      },
      {
        "duration": 5512,
        "start_time": "2023-12-03T14:14:58.496Z"
      }
    ],
    "kernelspec": {
      "display_name": "Python 3 (ipykernel)",
      "language": "python",
      "name": "python3"
    },
    "language_info": {
      "codemirror_mode": {
        "name": "ipython",
        "version": 3
      },
      "file_extension": ".py",
      "mimetype": "text/x-python",
      "name": "python",
      "nbconvert_exporter": "python",
      "pygments_lexer": "ipython3",
      "version": "3.9.5"
    },
    "toc": {
      "base_numbering": 1,
      "nav_menu": {},
      "number_sections": true,
      "sideBar": true,
      "skip_h1_title": true,
      "title_cell": "Table of Contents",
      "title_sidebar": "Contents",
      "toc_cell": false,
      "toc_position": {},
      "toc_section_display": true,
      "toc_window_display": false
    },
    "colab": {
      "provenance": [],
      "include_colab_link": true
    }
  },
  "nbformat": 4,
  "nbformat_minor": 5
}