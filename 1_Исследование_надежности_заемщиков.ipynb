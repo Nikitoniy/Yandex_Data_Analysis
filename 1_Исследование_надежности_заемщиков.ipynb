{
  "cells": [
    {
      "cell_type": "markdown",
      "id": "386f2ae7",
      "metadata": {
        "deletable": false,
        "editable": false,
        "id": "386f2ae7"
      },
      "source": [
        "# Исследование надежности заемщиков\n"
      ]
    },
    {
      "cell_type": "markdown",
      "id": "5c748ce7-616a-4c9c-acfb-b33db3091d53",
      "metadata": {
        "id": "5c748ce7-616a-4c9c-acfb-b33db3091d53"
      },
      "source": [
        "## Описание проекта"
      ]
    },
    {
      "cell_type": "markdown",
      "id": "1688307e-21c3-4115-af2a-045859531e26",
      "metadata": {
        "id": "1688307e-21c3-4115-af2a-045859531e26"
      },
      "source": [
        "Цель исследования: необходимо понять, как влияет семейное положение и количество детей клиента на факт погашения кредита в срок. Для исследования будет использоваться таблица от банка с вводными данными\n",
        "План по исследованию: предобработать данные, то есть убрать/заполнить пропуски и дубликаиы, разделить клиентов банка по группам - по сумме дохода, по цели приобретения кредита; построить таблицы с долей задолжников по уровню дохода, по количеству детей, по цели получения кредита."
      ]
    },
    {
      "cell_type": "markdown",
      "id": "26613308",
      "metadata": {
        "deletable": false,
        "editable": false,
        "id": "26613308"
      },
      "source": [
        "## Откройте таблицу и изучите общую информацию о данных"
      ]
    },
    {
      "cell_type": "markdown",
      "id": "3c9f838e",
      "metadata": {
        "deletable": false,
        "editable": false,
        "id": "3c9f838e"
      },
      "source": [
        "**Задание 1. Импортируйте библиотеку pandas. Считайте данные из csv-файла в датафрейм и сохраните в переменную `data`. Путь к файлу:**\n",
        "\n",
        "`/datasets/data.csv`"
      ]
    },
    {
      "cell_type": "code",
      "execution_count": null,
      "id": "77a68a90",
      "metadata": {
        "deletable": false,
        "id": "77a68a90"
      },
      "outputs": [],
      "source": [
        "import pandas as pd\n",
        "\n",
        "try:\n",
        "    data = pd.read_csv('/datasets/data.csv')\n",
        "except:\n",
        "    data = pd.read_csv('https://code.s3.yandex.net/datasets/data.csv')"
      ]
    },
    {
      "cell_type": "markdown",
      "id": "45365635",
      "metadata": {
        "deletable": false,
        "editable": false,
        "id": "45365635"
      },
      "source": [
        "**Задание 2. Выведите первые 20 строчек датафрейма `data` на экран.**"
      ]
    },
    {
      "cell_type": "code",
      "execution_count": null,
      "id": "b0451a9a",
      "metadata": {
        "deletable": false,
        "id": "b0451a9a",
        "outputId": "1a8f3ef2-d323-4ec2-ddf7-89670b5944c4"
      },
      "outputs": [
        {
          "data": {
            "text/html": [
              "<div>\n",
              "<style scoped>\n",
              "    .dataframe tbody tr th:only-of-type {\n",
              "        vertical-align: middle;\n",
              "    }\n",
              "\n",
              "    .dataframe tbody tr th {\n",
              "        vertical-align: top;\n",
              "    }\n",
              "\n",
              "    .dataframe thead th {\n",
              "        text-align: right;\n",
              "    }\n",
              "</style>\n",
              "<table border=\"1\" class=\"dataframe\">\n",
              "  <thead>\n",
              "    <tr style=\"text-align: right;\">\n",
              "      <th></th>\n",
              "      <th>children</th>\n",
              "      <th>days_employed</th>\n",
              "      <th>dob_years</th>\n",
              "      <th>education</th>\n",
              "      <th>education_id</th>\n",
              "      <th>family_status</th>\n",
              "      <th>family_status_id</th>\n",
              "      <th>gender</th>\n",
              "      <th>income_type</th>\n",
              "      <th>debt</th>\n",
              "      <th>total_income</th>\n",
              "      <th>purpose</th>\n",
              "    </tr>\n",
              "  </thead>\n",
              "  <tbody>\n",
              "    <tr>\n",
              "      <th>0</th>\n",
              "      <td>1</td>\n",
              "      <td>-8437.673028</td>\n",
              "      <td>42</td>\n",
              "      <td>высшее</td>\n",
              "      <td>0</td>\n",
              "      <td>женат / замужем</td>\n",
              "      <td>0</td>\n",
              "      <td>F</td>\n",
              "      <td>сотрудник</td>\n",
              "      <td>0</td>\n",
              "      <td>253875.639453</td>\n",
              "      <td>покупка жилья</td>\n",
              "    </tr>\n",
              "    <tr>\n",
              "      <th>1</th>\n",
              "      <td>1</td>\n",
              "      <td>-4024.803754</td>\n",
              "      <td>36</td>\n",
              "      <td>среднее</td>\n",
              "      <td>1</td>\n",
              "      <td>женат / замужем</td>\n",
              "      <td>0</td>\n",
              "      <td>F</td>\n",
              "      <td>сотрудник</td>\n",
              "      <td>0</td>\n",
              "      <td>112080.014102</td>\n",
              "      <td>приобретение автомобиля</td>\n",
              "    </tr>\n",
              "    <tr>\n",
              "      <th>2</th>\n",
              "      <td>0</td>\n",
              "      <td>-5623.422610</td>\n",
              "      <td>33</td>\n",
              "      <td>Среднее</td>\n",
              "      <td>1</td>\n",
              "      <td>женат / замужем</td>\n",
              "      <td>0</td>\n",
              "      <td>M</td>\n",
              "      <td>сотрудник</td>\n",
              "      <td>0</td>\n",
              "      <td>145885.952297</td>\n",
              "      <td>покупка жилья</td>\n",
              "    </tr>\n",
              "    <tr>\n",
              "      <th>3</th>\n",
              "      <td>3</td>\n",
              "      <td>-4124.747207</td>\n",
              "      <td>32</td>\n",
              "      <td>среднее</td>\n",
              "      <td>1</td>\n",
              "      <td>женат / замужем</td>\n",
              "      <td>0</td>\n",
              "      <td>M</td>\n",
              "      <td>сотрудник</td>\n",
              "      <td>0</td>\n",
              "      <td>267628.550329</td>\n",
              "      <td>дополнительное образование</td>\n",
              "    </tr>\n",
              "    <tr>\n",
              "      <th>4</th>\n",
              "      <td>0</td>\n",
              "      <td>340266.072047</td>\n",
              "      <td>53</td>\n",
              "      <td>среднее</td>\n",
              "      <td>1</td>\n",
              "      <td>гражданский брак</td>\n",
              "      <td>1</td>\n",
              "      <td>F</td>\n",
              "      <td>пенсионер</td>\n",
              "      <td>0</td>\n",
              "      <td>158616.077870</td>\n",
              "      <td>сыграть свадьбу</td>\n",
              "    </tr>\n",
              "    <tr>\n",
              "      <th>5</th>\n",
              "      <td>0</td>\n",
              "      <td>-926.185831</td>\n",
              "      <td>27</td>\n",
              "      <td>высшее</td>\n",
              "      <td>0</td>\n",
              "      <td>гражданский брак</td>\n",
              "      <td>1</td>\n",
              "      <td>M</td>\n",
              "      <td>компаньон</td>\n",
              "      <td>0</td>\n",
              "      <td>255763.565419</td>\n",
              "      <td>покупка жилья</td>\n",
              "    </tr>\n",
              "    <tr>\n",
              "      <th>6</th>\n",
              "      <td>0</td>\n",
              "      <td>-2879.202052</td>\n",
              "      <td>43</td>\n",
              "      <td>высшее</td>\n",
              "      <td>0</td>\n",
              "      <td>женат / замужем</td>\n",
              "      <td>0</td>\n",
              "      <td>F</td>\n",
              "      <td>компаньон</td>\n",
              "      <td>0</td>\n",
              "      <td>240525.971920</td>\n",
              "      <td>операции с жильем</td>\n",
              "    </tr>\n",
              "    <tr>\n",
              "      <th>7</th>\n",
              "      <td>0</td>\n",
              "      <td>-152.779569</td>\n",
              "      <td>50</td>\n",
              "      <td>СРЕДНЕЕ</td>\n",
              "      <td>1</td>\n",
              "      <td>женат / замужем</td>\n",
              "      <td>0</td>\n",
              "      <td>M</td>\n",
              "      <td>сотрудник</td>\n",
              "      <td>0</td>\n",
              "      <td>135823.934197</td>\n",
              "      <td>образование</td>\n",
              "    </tr>\n",
              "    <tr>\n",
              "      <th>8</th>\n",
              "      <td>2</td>\n",
              "      <td>-6929.865299</td>\n",
              "      <td>35</td>\n",
              "      <td>ВЫСШЕЕ</td>\n",
              "      <td>0</td>\n",
              "      <td>гражданский брак</td>\n",
              "      <td>1</td>\n",
              "      <td>F</td>\n",
              "      <td>сотрудник</td>\n",
              "      <td>0</td>\n",
              "      <td>95856.832424</td>\n",
              "      <td>на проведение свадьбы</td>\n",
              "    </tr>\n",
              "    <tr>\n",
              "      <th>9</th>\n",
              "      <td>0</td>\n",
              "      <td>-2188.756445</td>\n",
              "      <td>41</td>\n",
              "      <td>среднее</td>\n",
              "      <td>1</td>\n",
              "      <td>женат / замужем</td>\n",
              "      <td>0</td>\n",
              "      <td>M</td>\n",
              "      <td>сотрудник</td>\n",
              "      <td>0</td>\n",
              "      <td>144425.938277</td>\n",
              "      <td>покупка жилья для семьи</td>\n",
              "    </tr>\n",
              "    <tr>\n",
              "      <th>10</th>\n",
              "      <td>2</td>\n",
              "      <td>-4171.483647</td>\n",
              "      <td>36</td>\n",
              "      <td>высшее</td>\n",
              "      <td>0</td>\n",
              "      <td>женат / замужем</td>\n",
              "      <td>0</td>\n",
              "      <td>M</td>\n",
              "      <td>компаньон</td>\n",
              "      <td>0</td>\n",
              "      <td>113943.491460</td>\n",
              "      <td>покупка недвижимости</td>\n",
              "    </tr>\n",
              "    <tr>\n",
              "      <th>11</th>\n",
              "      <td>0</td>\n",
              "      <td>-792.701887</td>\n",
              "      <td>40</td>\n",
              "      <td>среднее</td>\n",
              "      <td>1</td>\n",
              "      <td>женат / замужем</td>\n",
              "      <td>0</td>\n",
              "      <td>F</td>\n",
              "      <td>сотрудник</td>\n",
              "      <td>0</td>\n",
              "      <td>77069.234271</td>\n",
              "      <td>покупка коммерческой недвижимости</td>\n",
              "    </tr>\n",
              "    <tr>\n",
              "      <th>12</th>\n",
              "      <td>0</td>\n",
              "      <td>NaN</td>\n",
              "      <td>65</td>\n",
              "      <td>среднее</td>\n",
              "      <td>1</td>\n",
              "      <td>гражданский брак</td>\n",
              "      <td>1</td>\n",
              "      <td>M</td>\n",
              "      <td>пенсионер</td>\n",
              "      <td>0</td>\n",
              "      <td>NaN</td>\n",
              "      <td>сыграть свадьбу</td>\n",
              "    </tr>\n",
              "    <tr>\n",
              "      <th>13</th>\n",
              "      <td>0</td>\n",
              "      <td>-1846.641941</td>\n",
              "      <td>54</td>\n",
              "      <td>неоконченное высшее</td>\n",
              "      <td>2</td>\n",
              "      <td>женат / замужем</td>\n",
              "      <td>0</td>\n",
              "      <td>F</td>\n",
              "      <td>сотрудник</td>\n",
              "      <td>0</td>\n",
              "      <td>130458.228857</td>\n",
              "      <td>приобретение автомобиля</td>\n",
              "    </tr>\n",
              "    <tr>\n",
              "      <th>14</th>\n",
              "      <td>0</td>\n",
              "      <td>-1844.956182</td>\n",
              "      <td>56</td>\n",
              "      <td>высшее</td>\n",
              "      <td>0</td>\n",
              "      <td>гражданский брак</td>\n",
              "      <td>1</td>\n",
              "      <td>F</td>\n",
              "      <td>компаньон</td>\n",
              "      <td>1</td>\n",
              "      <td>165127.911772</td>\n",
              "      <td>покупка жилой недвижимости</td>\n",
              "    </tr>\n",
              "    <tr>\n",
              "      <th>15</th>\n",
              "      <td>1</td>\n",
              "      <td>-972.364419</td>\n",
              "      <td>26</td>\n",
              "      <td>среднее</td>\n",
              "      <td>1</td>\n",
              "      <td>женат / замужем</td>\n",
              "      <td>0</td>\n",
              "      <td>F</td>\n",
              "      <td>сотрудник</td>\n",
              "      <td>0</td>\n",
              "      <td>116820.904450</td>\n",
              "      <td>строительство собственной недвижимости</td>\n",
              "    </tr>\n",
              "    <tr>\n",
              "      <th>16</th>\n",
              "      <td>0</td>\n",
              "      <td>-1719.934226</td>\n",
              "      <td>35</td>\n",
              "      <td>среднее</td>\n",
              "      <td>1</td>\n",
              "      <td>женат / замужем</td>\n",
              "      <td>0</td>\n",
              "      <td>F</td>\n",
              "      <td>сотрудник</td>\n",
              "      <td>0</td>\n",
              "      <td>289202.704229</td>\n",
              "      <td>недвижимость</td>\n",
              "    </tr>\n",
              "    <tr>\n",
              "      <th>17</th>\n",
              "      <td>0</td>\n",
              "      <td>-2369.999720</td>\n",
              "      <td>33</td>\n",
              "      <td>высшее</td>\n",
              "      <td>0</td>\n",
              "      <td>гражданский брак</td>\n",
              "      <td>1</td>\n",
              "      <td>M</td>\n",
              "      <td>сотрудник</td>\n",
              "      <td>0</td>\n",
              "      <td>90410.586745</td>\n",
              "      <td>строительство недвижимости</td>\n",
              "    </tr>\n",
              "    <tr>\n",
              "      <th>18</th>\n",
              "      <td>0</td>\n",
              "      <td>400281.136913</td>\n",
              "      <td>53</td>\n",
              "      <td>среднее</td>\n",
              "      <td>1</td>\n",
              "      <td>вдовец / вдова</td>\n",
              "      <td>2</td>\n",
              "      <td>F</td>\n",
              "      <td>пенсионер</td>\n",
              "      <td>0</td>\n",
              "      <td>56823.777243</td>\n",
              "      <td>на покупку подержанного автомобиля</td>\n",
              "    </tr>\n",
              "    <tr>\n",
              "      <th>19</th>\n",
              "      <td>0</td>\n",
              "      <td>-10038.818549</td>\n",
              "      <td>48</td>\n",
              "      <td>СРЕДНЕЕ</td>\n",
              "      <td>1</td>\n",
              "      <td>в разводе</td>\n",
              "      <td>3</td>\n",
              "      <td>F</td>\n",
              "      <td>сотрудник</td>\n",
              "      <td>0</td>\n",
              "      <td>242831.107982</td>\n",
              "      <td>на покупку своего автомобиля</td>\n",
              "    </tr>\n",
              "  </tbody>\n",
              "</table>\n",
              "</div>"
            ],
            "text/plain": [
              "    children  days_employed  dob_years            education  education_id  \\\n",
              "0          1   -8437.673028         42               высшее             0   \n",
              "1          1   -4024.803754         36              среднее             1   \n",
              "2          0   -5623.422610         33              Среднее             1   \n",
              "3          3   -4124.747207         32              среднее             1   \n",
              "4          0  340266.072047         53              среднее             1   \n",
              "5          0    -926.185831         27               высшее             0   \n",
              "6          0   -2879.202052         43               высшее             0   \n",
              "7          0    -152.779569         50              СРЕДНЕЕ             1   \n",
              "8          2   -6929.865299         35               ВЫСШЕЕ             0   \n",
              "9          0   -2188.756445         41              среднее             1   \n",
              "10         2   -4171.483647         36               высшее             0   \n",
              "11         0    -792.701887         40              среднее             1   \n",
              "12         0            NaN         65              среднее             1   \n",
              "13         0   -1846.641941         54  неоконченное высшее             2   \n",
              "14         0   -1844.956182         56               высшее             0   \n",
              "15         1    -972.364419         26              среднее             1   \n",
              "16         0   -1719.934226         35              среднее             1   \n",
              "17         0   -2369.999720         33               высшее             0   \n",
              "18         0  400281.136913         53              среднее             1   \n",
              "19         0  -10038.818549         48              СРЕДНЕЕ             1   \n",
              "\n",
              "       family_status  family_status_id gender income_type  debt  \\\n",
              "0    женат / замужем                 0      F   сотрудник     0   \n",
              "1    женат / замужем                 0      F   сотрудник     0   \n",
              "2    женат / замужем                 0      M   сотрудник     0   \n",
              "3    женат / замужем                 0      M   сотрудник     0   \n",
              "4   гражданский брак                 1      F   пенсионер     0   \n",
              "5   гражданский брак                 1      M   компаньон     0   \n",
              "6    женат / замужем                 0      F   компаньон     0   \n",
              "7    женат / замужем                 0      M   сотрудник     0   \n",
              "8   гражданский брак                 1      F   сотрудник     0   \n",
              "9    женат / замужем                 0      M   сотрудник     0   \n",
              "10   женат / замужем                 0      M   компаньон     0   \n",
              "11   женат / замужем                 0      F   сотрудник     0   \n",
              "12  гражданский брак                 1      M   пенсионер     0   \n",
              "13   женат / замужем                 0      F   сотрудник     0   \n",
              "14  гражданский брак                 1      F   компаньон     1   \n",
              "15   женат / замужем                 0      F   сотрудник     0   \n",
              "16   женат / замужем                 0      F   сотрудник     0   \n",
              "17  гражданский брак                 1      M   сотрудник     0   \n",
              "18    вдовец / вдова                 2      F   пенсионер     0   \n",
              "19         в разводе                 3      F   сотрудник     0   \n",
              "\n",
              "     total_income                                 purpose  \n",
              "0   253875.639453                           покупка жилья  \n",
              "1   112080.014102                 приобретение автомобиля  \n",
              "2   145885.952297                           покупка жилья  \n",
              "3   267628.550329              дополнительное образование  \n",
              "4   158616.077870                         сыграть свадьбу  \n",
              "5   255763.565419                           покупка жилья  \n",
              "6   240525.971920                       операции с жильем  \n",
              "7   135823.934197                             образование  \n",
              "8    95856.832424                   на проведение свадьбы  \n",
              "9   144425.938277                 покупка жилья для семьи  \n",
              "10  113943.491460                    покупка недвижимости  \n",
              "11   77069.234271       покупка коммерческой недвижимости  \n",
              "12            NaN                         сыграть свадьбу  \n",
              "13  130458.228857                 приобретение автомобиля  \n",
              "14  165127.911772              покупка жилой недвижимости  \n",
              "15  116820.904450  строительство собственной недвижимости  \n",
              "16  289202.704229                            недвижимость  \n",
              "17   90410.586745              строительство недвижимости  \n",
              "18   56823.777243      на покупку подержанного автомобиля  \n",
              "19  242831.107982            на покупку своего автомобиля  "
            ]
          },
          "execution_count": 2,
          "metadata": {},
          "output_type": "execute_result"
        }
      ],
      "source": [
        "data.head(20)"
      ]
    },
    {
      "cell_type": "markdown",
      "id": "0ed8f27f",
      "metadata": {
        "deletable": false,
        "editable": false,
        "id": "0ed8f27f"
      },
      "source": [
        "**Задание 3. Выведите основную информацию о датафрейме с помощью метода `info()`.**"
      ]
    },
    {
      "cell_type": "code",
      "execution_count": null,
      "id": "ab3f863b",
      "metadata": {
        "deletable": false,
        "id": "ab3f863b",
        "outputId": "15376089-8dad-46c9-b520-c05248d43158"
      },
      "outputs": [
        {
          "name": "stdout",
          "output_type": "stream",
          "text": [
            "<class 'pandas.core.frame.DataFrame'>\n",
            "RangeIndex: 21525 entries, 0 to 21524\n",
            "Data columns (total 12 columns):\n",
            " #   Column            Non-Null Count  Dtype  \n",
            "---  ------            --------------  -----  \n",
            " 0   children          21525 non-null  int64  \n",
            " 1   days_employed     19351 non-null  float64\n",
            " 2   dob_years         21525 non-null  int64  \n",
            " 3   education         21525 non-null  object \n",
            " 4   education_id      21525 non-null  int64  \n",
            " 5   family_status     21525 non-null  object \n",
            " 6   family_status_id  21525 non-null  int64  \n",
            " 7   gender            21525 non-null  object \n",
            " 8   income_type       21525 non-null  object \n",
            " 9   debt              21525 non-null  int64  \n",
            " 10  total_income      19351 non-null  float64\n",
            " 11  purpose           21525 non-null  object \n",
            "dtypes: float64(2), int64(5), object(5)\n",
            "memory usage: 2.0+ MB\n"
          ]
        }
      ],
      "source": [
        "data.info()"
      ]
    },
    {
      "cell_type": "markdown",
      "id": "60e3e22d",
      "metadata": {
        "deletable": false,
        "editable": false,
        "id": "60e3e22d"
      },
      "source": [
        "## Предобработка данных"
      ]
    },
    {
      "cell_type": "markdown",
      "id": "03dc170c",
      "metadata": {
        "deletable": false,
        "editable": false,
        "id": "03dc170c"
      },
      "source": [
        "### Удаление пропусков"
      ]
    },
    {
      "cell_type": "markdown",
      "id": "a4f54eef",
      "metadata": {
        "deletable": false,
        "editable": false,
        "id": "a4f54eef"
      },
      "source": [
        "**Задание 4. Выведите количество пропущенных значений для каждого столбца. Используйте комбинацию двух методов.**"
      ]
    },
    {
      "cell_type": "code",
      "execution_count": null,
      "id": "2dc372b2",
      "metadata": {
        "deletable": false,
        "id": "2dc372b2",
        "outputId": "81f4d817-781c-465c-ed15-91ce4446810d"
      },
      "outputs": [
        {
          "data": {
            "text/plain": [
              "children               0\n",
              "days_employed       2174\n",
              "dob_years              0\n",
              "education              0\n",
              "education_id           0\n",
              "family_status          0\n",
              "family_status_id       0\n",
              "gender                 0\n",
              "income_type            0\n",
              "debt                   0\n",
              "total_income        2174\n",
              "purpose                0\n",
              "dtype: int64"
            ]
          },
          "execution_count": 4,
          "metadata": {},
          "output_type": "execute_result"
        }
      ],
      "source": [
        "data.isna().sum()"
      ]
    },
    {
      "cell_type": "markdown",
      "id": "14f011b1",
      "metadata": {
        "deletable": false,
        "editable": false,
        "id": "14f011b1"
      },
      "source": [
        "**Задание 5. В двух столбцах есть пропущенные значения. Один из них — `days_employed`. Пропуски в этом столбце вы обработаете на следующем этапе. Другой столбец с пропущенными значениями — `total_income` — хранит данные о доходах. На сумму дохода сильнее всего влияет тип занятости, поэтому заполнить пропуски в этом столбце нужно медианным значением по каждому типу из столбца `income_type`. Например, у человека с типом занятости `сотрудник` пропуск в столбце `total_income` должен быть заполнен медианным доходом среди всех записей с тем же типом.**"
      ]
    },
    {
      "cell_type": "code",
      "execution_count": null,
      "id": "bdabfb6e",
      "metadata": {
        "deletable": false,
        "id": "bdabfb6e"
      },
      "outputs": [],
      "source": [
        "for t in data['income_type'].unique():\n",
        "    data.loc[(data['income_type'] == t) & (data['total_income'].isna()), 'total_income'] = \\\n",
        "    data.loc[(data['income_type'] == t), 'total_income'].median()"
      ]
    },
    {
      "cell_type": "markdown",
      "id": "5be34059",
      "metadata": {
        "deletable": false,
        "editable": false,
        "id": "5be34059"
      },
      "source": [
        "### Обработка аномальных значений"
      ]
    },
    {
      "cell_type": "markdown",
      "id": "a87606cb",
      "metadata": {
        "deletable": false,
        "editable": false,
        "id": "a87606cb"
      },
      "source": [
        "**Задание 6. В данных могут встречаться артефакты (аномалии) — значения, которые не отражают действительность и появились по какой-то ошибке. таким артефактом будет отрицательное количество дней трудового стажа в столбце `days_employed`. Для реальных данных это нормально. Обработайте значения в этом столбце: замените все отрицательные значения положительными с помощью метода `abs()`.**"
      ]
    },
    {
      "cell_type": "code",
      "execution_count": null,
      "id": "020c46cc",
      "metadata": {
        "deletable": false,
        "id": "020c46cc"
      },
      "outputs": [],
      "source": [
        "data['days_employed'] = data['days_employed'].abs()"
      ]
    },
    {
      "cell_type": "markdown",
      "id": "45538a3a",
      "metadata": {
        "deletable": false,
        "editable": false,
        "id": "45538a3a"
      },
      "source": [
        "**Задание 7. Для каждого типа занятости выведите медианное значение трудового стажа `days_employed` в днях.**"
      ]
    },
    {
      "cell_type": "code",
      "execution_count": null,
      "id": "cd3e6328",
      "metadata": {
        "deletable": false,
        "id": "cd3e6328",
        "outputId": "801ef80e-522b-4668-f34e-565af7432bcf"
      },
      "outputs": [
        {
          "data": {
            "text/plain": [
              "income_type\n",
              "безработный        366413.652744\n",
              "в декрете            3296.759962\n",
              "госслужащий          2689.368353\n",
              "компаньон            1547.382223\n",
              "пенсионер          365213.306266\n",
              "предприниматель       520.848083\n",
              "сотрудник            1574.202821\n",
              "студент               578.751554\n",
              "Name: days_employed, dtype: float64"
            ]
          },
          "execution_count": 7,
          "metadata": {},
          "output_type": "execute_result"
        }
      ],
      "source": [
        "data.groupby('income_type')['days_employed'].agg('median')"
      ]
    },
    {
      "cell_type": "markdown",
      "id": "90c5f058",
      "metadata": {
        "deletable": false,
        "editable": false,
        "id": "90c5f058"
      },
      "source": [
        "У двух типов (безработные и пенсионеры) получатся аномально большие значения. Исправить такие значения сложно, поэтому оставьте их как есть."
      ]
    },
    {
      "cell_type": "markdown",
      "id": "9652e50d",
      "metadata": {
        "deletable": false,
        "editable": false,
        "id": "9652e50d"
      },
      "source": [
        "**Задание 8. Выведите перечень уникальных значений столбца `children`.**"
      ]
    },
    {
      "cell_type": "code",
      "execution_count": null,
      "id": "dbb37b8e",
      "metadata": {
        "deletable": false,
        "id": "dbb37b8e",
        "outputId": "6975b15c-7f95-4697-d16d-a0c79b657b03"
      },
      "outputs": [
        {
          "data": {
            "text/plain": [
              "array([ 1,  0,  3,  2, -1,  4, 20,  5])"
            ]
          },
          "execution_count": 8,
          "metadata": {},
          "output_type": "execute_result"
        }
      ],
      "source": [
        "data['children'].unique()"
      ]
    },
    {
      "cell_type": "markdown",
      "id": "2b8b0715",
      "metadata": {
        "deletable": false,
        "editable": false,
        "id": "2b8b0715"
      },
      "source": [
        "**Задание 9. В столбце `children` есть два аномальных значения. Удалите строки, в которых встречаются такие аномальные значения из датафрейма `data`.**"
      ]
    },
    {
      "cell_type": "code",
      "execution_count": null,
      "id": "20009df8",
      "metadata": {
        "deletable": false,
        "id": "20009df8"
      },
      "outputs": [],
      "source": [
        "data = data[(data['children'] != -1) & (data['children'] != 20)]"
      ]
    },
    {
      "cell_type": "markdown",
      "id": "8c6ac9f1",
      "metadata": {
        "deletable": false,
        "editable": false,
        "id": "8c6ac9f1"
      },
      "source": [
        "**Задание 10. Ещё раз выведите перечень уникальных значений столбца `children`, чтобы убедиться, что артефакты удалены.**"
      ]
    },
    {
      "cell_type": "code",
      "execution_count": null,
      "id": "07337b81",
      "metadata": {
        "deletable": false,
        "id": "07337b81",
        "outputId": "b2097101-d49d-44d9-901b-32a65c9463d1"
      },
      "outputs": [
        {
          "data": {
            "text/plain": [
              "array([1, 0, 3, 2, 4, 5])"
            ]
          },
          "execution_count": 10,
          "metadata": {},
          "output_type": "execute_result"
        }
      ],
      "source": [
        "data['children'].unique()"
      ]
    },
    {
      "cell_type": "markdown",
      "id": "ee3f52d4",
      "metadata": {
        "deletable": false,
        "editable": false,
        "id": "ee3f52d4"
      },
      "source": [
        "### Удаление пропусков (продолжение)"
      ]
    },
    {
      "cell_type": "markdown",
      "id": "a700b0e4",
      "metadata": {
        "deletable": false,
        "editable": false,
        "id": "a700b0e4"
      },
      "source": [
        "**Задание 11. Заполните пропуски в столбце `days_employed` медианными значениями по каждого типа занятости `income_type`.**"
      ]
    },
    {
      "cell_type": "code",
      "execution_count": null,
      "id": "61946b83",
      "metadata": {
        "deletable": false,
        "id": "61946b83"
      },
      "outputs": [],
      "source": [
        "for t in data['income_type'].unique():\n",
        "    data.loc[(data['income_type'] == t) & (data['days_employed'].isna()), 'days_employed'] = \\\n",
        "    data.loc[(data['income_type'] == t), 'days_employed'].median()"
      ]
    },
    {
      "cell_type": "markdown",
      "id": "550dcd9b",
      "metadata": {
        "deletable": false,
        "editable": false,
        "id": "550dcd9b"
      },
      "source": [
        "**Задание 12. Убедитесь, что все пропуски заполнены. Проверьте себя и ещё раз выведите количество пропущенных значений для каждого столбца с помощью двух методов.**"
      ]
    },
    {
      "cell_type": "code",
      "execution_count": null,
      "id": "937c7014",
      "metadata": {
        "deletable": false,
        "id": "937c7014",
        "outputId": "8da1e4e1-358e-4e87-98c9-f261bce0a7b2"
      },
      "outputs": [
        {
          "data": {
            "text/plain": [
              "children            0\n",
              "days_employed       0\n",
              "dob_years           0\n",
              "education           0\n",
              "education_id        0\n",
              "family_status       0\n",
              "family_status_id    0\n",
              "gender              0\n",
              "income_type         0\n",
              "debt                0\n",
              "total_income        0\n",
              "purpose             0\n",
              "dtype: int64"
            ]
          },
          "execution_count": 12,
          "metadata": {},
          "output_type": "execute_result"
        }
      ],
      "source": [
        "data.isna().sum()"
      ]
    },
    {
      "cell_type": "markdown",
      "id": "d522e295",
      "metadata": {
        "deletable": false,
        "editable": false,
        "id": "d522e295"
      },
      "source": [
        "### Изменение типов данных"
      ]
    },
    {
      "cell_type": "markdown",
      "id": "c229c581",
      "metadata": {
        "deletable": false,
        "editable": false,
        "id": "c229c581"
      },
      "source": [
        "**Задание 13. Замените вещественный тип данных в столбце `total_income` на целочисленный с помощью метода `astype()`.**"
      ]
    },
    {
      "cell_type": "code",
      "execution_count": null,
      "id": "31036462",
      "metadata": {
        "deletable": false,
        "id": "31036462"
      },
      "outputs": [],
      "source": [
        "data['total_income'] = data['total_income'].astype(int)"
      ]
    },
    {
      "cell_type": "markdown",
      "id": "b8e3d1d9",
      "metadata": {
        "deletable": false,
        "editable": false,
        "id": "b8e3d1d9"
      },
      "source": [
        "### Обработка дубликатов"
      ]
    },
    {
      "cell_type": "markdown",
      "id": "9be53c49",
      "metadata": {
        "deletable": false,
        "editable": false,
        "id": "9be53c49"
      },
      "source": [
        "**Задание 14. Обработайте неявные дубликаты в столбце `education`. В этом столбце есть одни и те же значения, но записанные по-разному: с использованием заглавных и строчных букв. Приведите их к нижнему регистру.**"
      ]
    },
    {
      "cell_type": "code",
      "execution_count": null,
      "id": "d89e73e1",
      "metadata": {
        "deletable": false,
        "id": "d89e73e1"
      },
      "outputs": [],
      "source": [
        "data['education'] = data['education'].str.lower()"
      ]
    },
    {
      "cell_type": "markdown",
      "id": "01d4500e",
      "metadata": {
        "deletable": false,
        "editable": false,
        "id": "01d4500e"
      },
      "source": [
        "**Задание 15. Выведите на экран количество строк-дубликатов в данных. Если такие строки присутствуют, удалите их.**"
      ]
    },
    {
      "cell_type": "code",
      "execution_count": null,
      "id": "e10efb23",
      "metadata": {
        "deletable": false,
        "id": "e10efb23",
        "outputId": "9684deba-1934-42d1-99e1-cda61740f822"
      },
      "outputs": [
        {
          "data": {
            "text/plain": [
              "71"
            ]
          },
          "execution_count": 15,
          "metadata": {},
          "output_type": "execute_result"
        }
      ],
      "source": [
        "data.duplicated().sum()"
      ]
    },
    {
      "cell_type": "code",
      "execution_count": null,
      "id": "df853f20",
      "metadata": {
        "deletable": false,
        "id": "df853f20"
      },
      "outputs": [],
      "source": [
        "data = data.drop_duplicates()"
      ]
    },
    {
      "cell_type": "markdown",
      "id": "627be38f",
      "metadata": {
        "deletable": false,
        "editable": false,
        "id": "627be38f"
      },
      "source": [
        "### Категоризация данных"
      ]
    },
    {
      "cell_type": "markdown",
      "id": "4684c3e0",
      "metadata": {
        "deletable": false,
        "editable": false,
        "id": "4684c3e0"
      },
      "source": [
        "**Задание 16. На основании диапазонов, указанных ниже, создайте в датафрейме `data` столбец `total_income_category` с категориями:**\n",
        "\n",
        "- 0–30000 — `'E'`;\n",
        "- 30001–50000 — `'D'`;\n",
        "- 50001–200000 — `'C'`;\n",
        "- 200001–1000000 — `'B'`;\n",
        "- 1000001 и выше — `'A'`.\n",
        "\n",
        "\n",
        "**Например, кредитополучателю с доходом 25000 нужно назначить категорию `'E'`, а клиенту, получающему 235000, — `'B'`. Используйте собственную функцию с именем `categorize_income()` и метод `apply()`.**"
      ]
    },
    {
      "cell_type": "code",
      "execution_count": null,
      "id": "78965238",
      "metadata": {
        "deletable": false,
        "id": "78965238"
      },
      "outputs": [],
      "source": [
        "def categorize_income(income):\n",
        "    try:\n",
        "        if 0 <= income <= 30000:\n",
        "            return 'E'\n",
        "        elif 30001 <= income <= 50000:\n",
        "            return 'D'\n",
        "        elif 50001 <= income <= 200000:\n",
        "            return 'C'\n",
        "        elif 200001 <= income <= 1000000:\n",
        "            return 'B'\n",
        "        elif income >= 1000001:\n",
        "            return 'A'\n",
        "    except:\n",
        "        pass"
      ]
    },
    {
      "cell_type": "code",
      "execution_count": null,
      "id": "0980ada1",
      "metadata": {
        "deletable": false,
        "id": "0980ada1"
      },
      "outputs": [],
      "source": [
        "data['total_income_category'] = data['total_income'].apply(categorize_income)"
      ]
    },
    {
      "cell_type": "markdown",
      "id": "9917bba0",
      "metadata": {
        "deletable": false,
        "editable": false,
        "id": "9917bba0"
      },
      "source": [
        "**Задание 17. Выведите на экран перечень уникальных целей взятия кредита из столбца `purpose`.**"
      ]
    },
    {
      "cell_type": "code",
      "execution_count": null,
      "id": "ee07b65e",
      "metadata": {
        "deletable": false,
        "id": "ee07b65e",
        "outputId": "673c12d9-7d7e-4ae0-9812-c622c89dd244"
      },
      "outputs": [
        {
          "data": {
            "text/plain": [
              "array(['покупка жилья', 'приобретение автомобиля',\n",
              "       'дополнительное образование', 'сыграть свадьбу',\n",
              "       'операции с жильем', 'образование', 'на проведение свадьбы',\n",
              "       'покупка жилья для семьи', 'покупка недвижимости',\n",
              "       'покупка коммерческой недвижимости', 'покупка жилой недвижимости',\n",
              "       'строительство собственной недвижимости', 'недвижимость',\n",
              "       'строительство недвижимости', 'на покупку подержанного автомобиля',\n",
              "       'на покупку своего автомобиля',\n",
              "       'операции с коммерческой недвижимостью',\n",
              "       'строительство жилой недвижимости', 'жилье',\n",
              "       'операции со своей недвижимостью', 'автомобили',\n",
              "       'заняться образованием', 'сделка с подержанным автомобилем',\n",
              "       'получение образования', 'автомобиль', 'свадьба',\n",
              "       'получение дополнительного образования', 'покупка своего жилья',\n",
              "       'операции с недвижимостью', 'получение высшего образования',\n",
              "       'свой автомобиль', 'сделка с автомобилем',\n",
              "       'профильное образование', 'высшее образование',\n",
              "       'покупка жилья для сдачи', 'на покупку автомобиля', 'ремонт жилью',\n",
              "       'заняться высшим образованием'], dtype=object)"
            ]
          },
          "execution_count": 19,
          "metadata": {},
          "output_type": "execute_result"
        }
      ],
      "source": [
        "data['purpose'].unique()"
      ]
    },
    {
      "cell_type": "markdown",
      "id": "52b79d56",
      "metadata": {
        "deletable": false,
        "editable": false,
        "id": "52b79d56"
      },
      "source": [
        "**Задание 18. Создайте функцию, которая на основании данных из столбца `purpose` сформирует новый столбец `purpose_category`, в который войдут следующие категории:**\n",
        "\n",
        "- `'операции с автомобилем'`,\n",
        "- `'операции с недвижимостью'`,\n",
        "- `'проведение свадьбы'`,\n",
        "- `'получение образования'`.\n",
        "\n",
        "**Например, если в столбце `purpose` находится подстрока `'на покупку автомобиля'`, то в столбце `purpose_category` должна появиться строка `'операции с автомобилем'`.**\n",
        "\n",
        "**Используйте собственную функцию с именем `categorize_purpose()` и метод `apply()`. Изучите данные в столбце `purpose` и определите, какие подстроки помогут вам правильно определить категорию.**"
      ]
    },
    {
      "cell_type": "code",
      "execution_count": null,
      "id": "be41da5d",
      "metadata": {
        "deletable": false,
        "id": "be41da5d"
      },
      "outputs": [],
      "source": [
        "def categorize_purpose(row):\n",
        "    try:\n",
        "        if 'автом' in row:\n",
        "            return 'операции с автомобилем'\n",
        "        elif 'жил' in row or 'недвиж' in row:\n",
        "            return 'операции с недвижимостью'\n",
        "        elif 'свад' in row:\n",
        "            return 'проведение свадьбы'\n",
        "        elif 'образов' in row:\n",
        "            return 'получение образования'\n",
        "    except:\n",
        "        return 'нет категории'"
      ]
    },
    {
      "cell_type": "code",
      "execution_count": null,
      "id": "94c4a19a",
      "metadata": {
        "deletable": false,
        "id": "94c4a19a"
      },
      "outputs": [],
      "source": [
        "data['purpose_category'] = data['purpose'].apply(categorize_purpose)"
      ]
    },
    {
      "cell_type": "markdown",
      "id": "3d596c34",
      "metadata": {
        "deletable": false,
        "editable": false,
        "id": "3d596c34"
      },
      "source": [
        "### Шаг 3. Исследуйте данные и ответьте на вопросы"
      ]
    },
    {
      "cell_type": "markdown",
      "id": "648db036",
      "metadata": {
        "deletable": false,
        "editable": false,
        "id": "648db036"
      },
      "source": [
        "#### 3.1 Есть ли зависимость между количеством детей и возвратом кредита в срок?"
      ]
    },
    {
      "cell_type": "code",
      "execution_count": null,
      "id": "7fcff25e",
      "metadata": {
        "deletable": false,
        "id": "7fcff25e",
        "scrolled": true,
        "outputId": "4355bf5a-ab87-4ebd-a6e0-9dca0869f55c"
      },
      "outputs": [
        {
          "data": {
            "text/html": [
              "<div>\n",
              "<style scoped>\n",
              "    .dataframe tbody tr th:only-of-type {\n",
              "        vertical-align: middle;\n",
              "    }\n",
              "\n",
              "    .dataframe tbody tr th {\n",
              "        vertical-align: top;\n",
              "    }\n",
              "\n",
              "    .dataframe thead th {\n",
              "        text-align: right;\n",
              "    }\n",
              "</style>\n",
              "<table border=\"1\" class=\"dataframe\">\n",
              "  <thead>\n",
              "    <tr style=\"text-align: right;\">\n",
              "      <th></th>\n",
              "      <th>total</th>\n",
              "      <th>count_debt</th>\n",
              "      <th>ratio</th>\n",
              "    </tr>\n",
              "    <tr>\n",
              "      <th>children</th>\n",
              "      <th></th>\n",
              "      <th></th>\n",
              "      <th></th>\n",
              "    </tr>\n",
              "  </thead>\n",
              "  <tbody>\n",
              "    <tr>\n",
              "      <th>4</th>\n",
              "      <td>41</td>\n",
              "      <td>4</td>\n",
              "      <td>0.098</td>\n",
              "    </tr>\n",
              "    <tr>\n",
              "      <th>2</th>\n",
              "      <td>2052</td>\n",
              "      <td>194</td>\n",
              "      <td>0.095</td>\n",
              "    </tr>\n",
              "    <tr>\n",
              "      <th>1</th>\n",
              "      <td>4808</td>\n",
              "      <td>444</td>\n",
              "      <td>0.092</td>\n",
              "    </tr>\n",
              "    <tr>\n",
              "      <th>3</th>\n",
              "      <td>330</td>\n",
              "      <td>27</td>\n",
              "      <td>0.082</td>\n",
              "    </tr>\n",
              "    <tr>\n",
              "      <th>0</th>\n",
              "      <td>14091</td>\n",
              "      <td>1063</td>\n",
              "      <td>0.075</td>\n",
              "    </tr>\n",
              "    <tr>\n",
              "      <th>5</th>\n",
              "      <td>9</td>\n",
              "      <td>0</td>\n",
              "      <td>0.000</td>\n",
              "    </tr>\n",
              "  </tbody>\n",
              "</table>\n",
              "</div>"
            ],
            "text/plain": [
              "          total  count_debt  ratio\n",
              "children                          \n",
              "4            41           4  0.098\n",
              "2          2052         194  0.095\n",
              "1          4808         444  0.092\n",
              "3           330          27  0.082\n",
              "0         14091        1063  0.075\n",
              "5             9           0  0.000"
            ]
          },
          "execution_count": 22,
          "metadata": {},
          "output_type": "execute_result"
        }
      ],
      "source": [
        "data_pivor_child = data.pivot_table(index = ['children'], values = 'debt', aggfunc = {'count','sum'})\n",
        "data_pivor_child = data_pivor_child.rename(columns={'count': 'total', 'sum': 'count_debt'})\n",
        "data_pivor_child['ratio'] = round(data_pivor_child['count_debt'] / data_pivor_child['total'], 3)\n",
        "data_pivor_child.sort_values('ratio', ascending=False)"
      ]
    },
    {
      "cell_type": "markdown",
      "id": "2eb9088e",
      "metadata": {
        "deletable": false,
        "id": "2eb9088e"
      },
      "source": [
        "**Вывод:** Корреляция прослеживается. Высокая доля должников находится в категориях с 1, 2 и 4 детьми. Это может говорить о том, что в таких семьях более финансово нестабильны. У людей с детьми становится больше потребностей и трат, из-за чего, возможно, у них пропадает возможность вернуть кредит в срок. Данный вывод также можно обоснавать на основе доли должников, которые не имеют детей - их самая низкая доля."
      ]
    },
    {
      "cell_type": "markdown",
      "id": "74c9b3a7",
      "metadata": {
        "deletable": false,
        "editable": false,
        "id": "74c9b3a7"
      },
      "source": [
        "#### 3.2 Есть ли зависимость между семейным положением и возвратом кредита в срок?"
      ]
    },
    {
      "cell_type": "code",
      "execution_count": null,
      "id": "8098ab3b",
      "metadata": {
        "deletable": false,
        "id": "8098ab3b",
        "outputId": "d4007b57-c9d5-4968-db68-8715a1df6836"
      },
      "outputs": [
        {
          "data": {
            "text/html": [
              "<div>\n",
              "<style scoped>\n",
              "    .dataframe tbody tr th:only-of-type {\n",
              "        vertical-align: middle;\n",
              "    }\n",
              "\n",
              "    .dataframe tbody tr th {\n",
              "        vertical-align: top;\n",
              "    }\n",
              "\n",
              "    .dataframe thead th {\n",
              "        text-align: right;\n",
              "    }\n",
              "</style>\n",
              "<table border=\"1\" class=\"dataframe\">\n",
              "  <thead>\n",
              "    <tr style=\"text-align: right;\">\n",
              "      <th></th>\n",
              "      <th>total</th>\n",
              "      <th>count_debt</th>\n",
              "      <th>ratio</th>\n",
              "    </tr>\n",
              "    <tr>\n",
              "      <th>family_status</th>\n",
              "      <th></th>\n",
              "      <th></th>\n",
              "      <th></th>\n",
              "    </tr>\n",
              "  </thead>\n",
              "  <tbody>\n",
              "    <tr>\n",
              "      <th>Не женат / не замужем</th>\n",
              "      <td>2796</td>\n",
              "      <td>273</td>\n",
              "      <td>0.098</td>\n",
              "    </tr>\n",
              "    <tr>\n",
              "      <th>гражданский брак</th>\n",
              "      <td>4134</td>\n",
              "      <td>385</td>\n",
              "      <td>0.093</td>\n",
              "    </tr>\n",
              "    <tr>\n",
              "      <th>женат / замужем</th>\n",
              "      <td>12261</td>\n",
              "      <td>927</td>\n",
              "      <td>0.076</td>\n",
              "    </tr>\n",
              "    <tr>\n",
              "      <th>в разводе</th>\n",
              "      <td>1189</td>\n",
              "      <td>84</td>\n",
              "      <td>0.071</td>\n",
              "    </tr>\n",
              "    <tr>\n",
              "      <th>вдовец / вдова</th>\n",
              "      <td>951</td>\n",
              "      <td>63</td>\n",
              "      <td>0.066</td>\n",
              "    </tr>\n",
              "  </tbody>\n",
              "</table>\n",
              "</div>"
            ],
            "text/plain": [
              "                       total  count_debt  ratio\n",
              "family_status                                  \n",
              "Не женат / не замужем   2796         273  0.098\n",
              "гражданский брак        4134         385  0.093\n",
              "женат / замужем        12261         927  0.076\n",
              "в разводе               1189          84  0.071\n",
              "вдовец / вдова           951          63  0.066"
            ]
          },
          "execution_count": 23,
          "metadata": {},
          "output_type": "execute_result"
        }
      ],
      "source": [
        "data_pivor_fam = data.pivot_table(index = ['family_status'], values = 'debt', aggfunc = {'count','sum'})\n",
        "data_pivor_fam = data_pivor_fam.rename(columns={'count': 'total', 'sum': 'count_debt'})\n",
        "data_pivor_fam['ratio'] = round(data_pivor_fam['count_debt'] / data_pivor_fam['total'], 3)\n",
        "data_pivor_fam.sort_values('ratio', ascending=False)"
      ]
    },
    {
      "cell_type": "markdown",
      "id": "c389ca63",
      "metadata": {
        "deletable": false,
        "id": "c389ca63"
      },
      "source": [
        "**Вывод:** Корреляция прослеживается. Высокий показатель у клиентов, которые не состоят и не состояли в браке, самый низкий у вдовцов. Это может говорить о том, что в таком случае у клиентов стоит рассматривать не только семейный статус, но и соответсвующие признаки, такие как: возраст, финансовое положение, наличие детей."
      ]
    },
    {
      "cell_type": "markdown",
      "id": "9529de68",
      "metadata": {
        "deletable": false,
        "editable": false,
        "id": "9529de68"
      },
      "source": [
        "#### 3.3 Есть ли зависимость между уровнем дохода и возвратом кредита в срок?"
      ]
    },
    {
      "cell_type": "code",
      "execution_count": null,
      "id": "8787f44a",
      "metadata": {
        "deletable": false,
        "id": "8787f44a",
        "outputId": "92fa24d4-df71-4f5c-cd1a-728e449338a8"
      },
      "outputs": [
        {
          "data": {
            "text/html": [
              "<div>\n",
              "<style scoped>\n",
              "    .dataframe tbody tr th:only-of-type {\n",
              "        vertical-align: middle;\n",
              "    }\n",
              "\n",
              "    .dataframe tbody tr th {\n",
              "        vertical-align: top;\n",
              "    }\n",
              "\n",
              "    .dataframe thead th {\n",
              "        text-align: right;\n",
              "    }\n",
              "</style>\n",
              "<table border=\"1\" class=\"dataframe\">\n",
              "  <thead>\n",
              "    <tr style=\"text-align: right;\">\n",
              "      <th></th>\n",
              "      <th>total</th>\n",
              "      <th>count_debt</th>\n",
              "      <th>ratio</th>\n",
              "    </tr>\n",
              "    <tr>\n",
              "      <th>total_income_category</th>\n",
              "      <th></th>\n",
              "      <th></th>\n",
              "      <th></th>\n",
              "    </tr>\n",
              "  </thead>\n",
              "  <tbody>\n",
              "    <tr>\n",
              "      <th>E</th>\n",
              "      <td>22</td>\n",
              "      <td>2</td>\n",
              "      <td>0.091</td>\n",
              "    </tr>\n",
              "    <tr>\n",
              "      <th>C</th>\n",
              "      <td>15921</td>\n",
              "      <td>1353</td>\n",
              "      <td>0.085</td>\n",
              "    </tr>\n",
              "    <tr>\n",
              "      <th>A</th>\n",
              "      <td>25</td>\n",
              "      <td>2</td>\n",
              "      <td>0.080</td>\n",
              "    </tr>\n",
              "    <tr>\n",
              "      <th>B</th>\n",
              "      <td>5014</td>\n",
              "      <td>354</td>\n",
              "      <td>0.071</td>\n",
              "    </tr>\n",
              "    <tr>\n",
              "      <th>D</th>\n",
              "      <td>349</td>\n",
              "      <td>21</td>\n",
              "      <td>0.060</td>\n",
              "    </tr>\n",
              "  </tbody>\n",
              "</table>\n",
              "</div>"
            ],
            "text/plain": [
              "                       total  count_debt  ratio\n",
              "total_income_category                          \n",
              "E                         22           2  0.091\n",
              "C                      15921        1353  0.085\n",
              "A                         25           2  0.080\n",
              "B                       5014         354  0.071\n",
              "D                        349          21  0.060"
            ]
          },
          "execution_count": 24,
          "metadata": {},
          "output_type": "execute_result"
        }
      ],
      "source": [
        "data_pivor_inc = data.pivot_table(index = ['total_income_category'], values = 'debt', aggfunc = {'count','sum'})\n",
        "data_pivor_inc = data_pivor_inc.rename(columns={'count': 'total', 'sum': 'count_debt'})\n",
        "data_pivor_inc['ratio'] = round(data_pivor_inc['count_debt'] / data_pivor_inc['total'], 3)\n",
        "data_pivor_inc.sort_values('ratio', ascending=False)"
      ]
    },
    {
      "cell_type": "markdown",
      "id": "6dd14b57",
      "metadata": {
        "deletable": false,
        "id": "6dd14b57"
      },
      "source": [
        "**Вывод:** Корреляция прослеживается. Клиенты с самым низким доходом - до 30 тыс и менее - самый высокий показатель соотношения между кредитом и просроченным кредитом. Самый низкий показатель следующей группы по уровню дохода - D - среди них меньше людей, которые имели задолженность. Стоит отметить, что группа людей с доходом типа А берут меньше кредитов, но имеют более высокий показатель в колонке `ratio`. Среди группы C кредит популярнее всего."
      ]
    },
    {
      "cell_type": "markdown",
      "id": "1dcc9b12",
      "metadata": {
        "deletable": false,
        "editable": false,
        "id": "1dcc9b12"
      },
      "source": [
        "#### 3.4 Как разные цели кредита влияют на его возврат в срок?"
      ]
    },
    {
      "cell_type": "code",
      "execution_count": null,
      "id": "c602bc8b",
      "metadata": {
        "deletable": false,
        "id": "c602bc8b",
        "outputId": "4bbfc32c-034c-4389-c129-97181f89c194"
      },
      "outputs": [
        {
          "data": {
            "text/html": [
              "<div>\n",
              "<style scoped>\n",
              "    .dataframe tbody tr th:only-of-type {\n",
              "        vertical-align: middle;\n",
              "    }\n",
              "\n",
              "    .dataframe tbody tr th {\n",
              "        vertical-align: top;\n",
              "    }\n",
              "\n",
              "    .dataframe thead th {\n",
              "        text-align: right;\n",
              "    }\n",
              "</style>\n",
              "<table border=\"1\" class=\"dataframe\">\n",
              "  <thead>\n",
              "    <tr style=\"text-align: right;\">\n",
              "      <th></th>\n",
              "      <th>total</th>\n",
              "      <th>count_debt</th>\n",
              "      <th>ratio</th>\n",
              "    </tr>\n",
              "    <tr>\n",
              "      <th>purpose_category</th>\n",
              "      <th></th>\n",
              "      <th></th>\n",
              "      <th></th>\n",
              "    </tr>\n",
              "  </thead>\n",
              "  <tbody>\n",
              "    <tr>\n",
              "      <th>операции с автомобилем</th>\n",
              "      <td>4279</td>\n",
              "      <td>400</td>\n",
              "      <td>0.093</td>\n",
              "    </tr>\n",
              "    <tr>\n",
              "      <th>получение образования</th>\n",
              "      <td>3988</td>\n",
              "      <td>369</td>\n",
              "      <td>0.093</td>\n",
              "    </tr>\n",
              "    <tr>\n",
              "      <th>проведение свадьбы</th>\n",
              "      <td>2313</td>\n",
              "      <td>183</td>\n",
              "      <td>0.079</td>\n",
              "    </tr>\n",
              "    <tr>\n",
              "      <th>операции с недвижимостью</th>\n",
              "      <td>10751</td>\n",
              "      <td>780</td>\n",
              "      <td>0.073</td>\n",
              "    </tr>\n",
              "  </tbody>\n",
              "</table>\n",
              "</div>"
            ],
            "text/plain": [
              "                          total  count_debt  ratio\n",
              "purpose_category                                  \n",
              "операции с автомобилем     4279         400  0.093\n",
              "получение образования      3988         369  0.093\n",
              "проведение свадьбы         2313         183  0.079\n",
              "операции с недвижимостью  10751         780  0.073"
            ]
          },
          "execution_count": 25,
          "metadata": {},
          "output_type": "execute_result"
        }
      ],
      "source": [
        "data_pivor_point = data.pivot_table(index = ['purpose_category'], values = 'debt', aggfunc = {'count','sum'})\n",
        "data_pivor_point = data_pivor_point.rename(columns={'count': 'total', 'sum': 'count_debt'})\n",
        "data_pivor_point['ratio'] = round(data_pivor_point['count_debt'] / data_pivor_point['total'], 3)\n",
        "data_pivor_point.sort_values('ratio', ascending=False)"
      ]
    },
    {
      "cell_type": "markdown",
      "id": "cf05ed63",
      "metadata": {
        "deletable": false,
        "id": "cf05ed63"
      },
      "source": [
        "**Вывод:** У клиентов, которые нуждаются в создании семьи, т.е. покупка недвижимости или проведение свадьбы, ниже показатели по соотношению, в соответствии с этим, можно предположить, что такие клиенты более платежеспособные и финансово обеспеченные. У группы людей, которые берут кредит на более потребительские вещи, такие как машина или образование, возможно, более нестабильное финансовое положение."
      ]
    },
    {
      "cell_type": "markdown",
      "id": "46c1f10b",
      "metadata": {
        "deletable": false,
        "editable": false,
        "id": "46c1f10b"
      },
      "source": [
        "#### 3.5 Приведите возможные причины появления пропусков в исходных данных."
      ]
    },
    {
      "cell_type": "markdown",
      "id": "3697d2a9",
      "metadata": {
        "deletable": false,
        "id": "3697d2a9"
      },
      "source": [
        "*Ответ:* Ошибки сотрудников при подготовки исходной таблицы, нежелание заполнять информацию о себе пользователями, также есть зависимые между собой колонки. Пропуски находились в `total_income` и `days_employed`, это говорит о том, ято одна колонка заполнялась в зависимости от другой."
      ]
    },
    {
      "cell_type": "markdown",
      "id": "3137d257",
      "metadata": {
        "deletable": false,
        "editable": false,
        "id": "3137d257"
      },
      "source": [
        "#### 3.6 Объясните, почему заполнить пропуски медианным значением — лучшее решение для количественных переменных."
      ]
    },
    {
      "cell_type": "markdown",
      "id": "cf40012a",
      "metadata": {
        "deletable": false,
        "id": "cf40012a"
      },
      "source": [
        "*Ответ:* В таблице мы можем сгруппировать определеные значения по группам. Поэтому на основе них мы можем взять медианное значение среди групп и заполнить пропуски. Среднее арифметическое отражает ситуацию некорректно, так как не учитывает разброс данных."
      ]
    },
    {
      "cell_type": "markdown",
      "id": "57bc304e",
      "metadata": {
        "deletable": false,
        "editable": false,
        "id": "57bc304e"
      },
      "source": [
        "### Шаг 4: общий вывод."
      ]
    },
    {
      "cell_type": "markdown",
      "id": "1ab75d1c",
      "metadata": {
        "deletable": false,
        "id": "1ab75d1c"
      },
      "source": [
        "    В процессе анализа была произведена предобработка данных: поиск и обработка дубликатов и пропусков. Пропуски были заполненный медианными значениями для корректных дальшейших расчетов. Также в таблице клиенты были разделены на группы - по доходам и целе кредита.\n",
        "    По ходу проведения анализа не выявилось сильной карреляции между типами клиентов и неуплата кредита в срок. Но стоит сказать, что некоторые группы людей выделяются среди остальных, в таком случае, если соединить показатели нескольких сводных таблиц, то, возможно, можно будет прийти к более точному выводу. Например, ситуация с  клиентом, который берет кредит на машину и имеет доход менее 30 тыс. рублей, может сказать о том, что с высокой вероятностью он не сможет вернуть долг в положенный срок, и наоборот, в ситуации с более дорогими покупками, такие как недвижимость, и людей, который уже были или находятся в браке, вероятность неуплаты задолженности в положенный срок становится ниже.\n",
        "    "
      ]
    }
  ],
  "metadata": {
    "ExecuteTimeLog": [
      {
        "duration": 49,
        "start_time": "2023-08-07T11:26:22.764Z"
      },
      {
        "duration": 5,
        "start_time": "2023-08-07T11:26:30.590Z"
      },
      {
        "duration": 860,
        "start_time": "2023-08-07T11:26:53.262Z"
      },
      {
        "duration": 15,
        "start_time": "2023-08-07T11:26:57.263Z"
      },
      {
        "duration": 21,
        "start_time": "2023-08-07T11:26:58.830Z"
      },
      {
        "duration": 48,
        "start_time": "2023-08-07T11:27:00.267Z"
      },
      {
        "duration": 4,
        "start_time": "2023-08-07T11:27:01.361Z"
      },
      {
        "duration": 9,
        "start_time": "2023-08-07T11:27:02.676Z"
      },
      {
        "duration": 4,
        "start_time": "2023-08-07T11:27:04.305Z"
      },
      {
        "duration": 9,
        "start_time": "2023-08-07T11:27:04.979Z"
      },
      {
        "duration": 5,
        "start_time": "2023-08-07T11:27:06.205Z"
      },
      {
        "duration": 30,
        "start_time": "2023-08-07T11:27:07.203Z"
      },
      {
        "duration": 9,
        "start_time": "2023-08-07T11:27:08.268Z"
      },
      {
        "duration": 4,
        "start_time": "2023-08-07T11:27:09.359Z"
      },
      {
        "duration": 10,
        "start_time": "2023-08-07T11:29:15.805Z"
      },
      {
        "duration": 17,
        "start_time": "2023-08-07T11:29:17.137Z"
      },
      {
        "duration": 17,
        "start_time": "2023-08-07T11:29:18.004Z"
      },
      {
        "duration": 4,
        "start_time": "2023-08-07T11:29:20.230Z"
      },
      {
        "duration": 10,
        "start_time": "2023-08-07T11:29:20.859Z"
      },
      {
        "duration": 6,
        "start_time": "2023-08-07T11:29:21.862Z"
      },
      {
        "duration": 4,
        "start_time": "2023-08-07T11:29:24.180Z"
      },
      {
        "duration": 14,
        "start_time": "2023-08-07T11:29:26.181Z"
      },
      {
        "duration": 24,
        "start_time": "2023-08-07T11:29:28.281Z"
      },
      {
        "duration": 28,
        "start_time": "2023-08-07T11:39:38.511Z"
      },
      {
        "duration": 25,
        "start_time": "2023-08-07T11:40:14.985Z"
      },
      {
        "duration": 18,
        "start_time": "2023-08-07T11:41:10.918Z"
      },
      {
        "duration": 15,
        "start_time": "2023-08-07T11:41:33.886Z"
      },
      {
        "duration": 16,
        "start_time": "2023-08-07T11:43:28.558Z"
      },
      {
        "duration": 16,
        "start_time": "2023-08-07T11:52:06.765Z"
      },
      {
        "duration": 17,
        "start_time": "2023-08-07T11:53:36.573Z"
      },
      {
        "duration": 16,
        "start_time": "2023-08-07T11:53:49.573Z"
      },
      {
        "duration": 17,
        "start_time": "2023-08-07T11:53:55.178Z"
      },
      {
        "duration": 24,
        "start_time": "2023-08-07T12:44:51.192Z"
      },
      {
        "duration": 29,
        "start_time": "2023-08-07T12:45:20.995Z"
      },
      {
        "duration": 19,
        "start_time": "2023-08-07T12:45:32.111Z"
      },
      {
        "duration": 18,
        "start_time": "2023-08-07T12:45:50.028Z"
      },
      {
        "duration": 19,
        "start_time": "2023-08-07T12:45:53.111Z"
      },
      {
        "duration": 26,
        "start_time": "2023-08-07T12:46:36.784Z"
      },
      {
        "duration": 20,
        "start_time": "2023-08-07T12:46:55.876Z"
      },
      {
        "duration": 19,
        "start_time": "2023-08-07T12:47:00.654Z"
      },
      {
        "duration": 17,
        "start_time": "2023-08-07T13:25:47.980Z"
      },
      {
        "duration": 24,
        "start_time": "2023-08-07T13:37:02.231Z"
      },
      {
        "duration": 25,
        "start_time": "2023-08-07T13:41:24.926Z"
      },
      {
        "duration": 20,
        "start_time": "2023-08-07T13:42:23.423Z"
      },
      {
        "duration": 17,
        "start_time": "2023-08-07T13:56:03.636Z"
      },
      {
        "duration": 27,
        "start_time": "2023-08-07T13:57:06.579Z"
      },
      {
        "duration": 445,
        "start_time": "2023-08-07T15:01:50.651Z"
      },
      {
        "duration": 24,
        "start_time": "2023-08-07T15:01:51.098Z"
      },
      {
        "duration": 30,
        "start_time": "2023-08-07T15:01:51.123Z"
      },
      {
        "duration": 18,
        "start_time": "2023-08-07T15:01:51.155Z"
      },
      {
        "duration": 57,
        "start_time": "2023-08-07T15:01:51.175Z"
      },
      {
        "duration": 4,
        "start_time": "2023-08-07T15:01:51.234Z"
      },
      {
        "duration": 40,
        "start_time": "2023-08-07T15:01:51.240Z"
      },
      {
        "duration": 28,
        "start_time": "2023-08-07T15:01:51.282Z"
      },
      {
        "duration": 56,
        "start_time": "2023-08-07T15:01:51.312Z"
      },
      {
        "duration": 25,
        "start_time": "2023-08-07T15:01:51.370Z"
      },
      {
        "duration": 51,
        "start_time": "2023-08-07T15:01:51.397Z"
      },
      {
        "duration": 29,
        "start_time": "2023-08-07T15:01:51.450Z"
      },
      {
        "duration": 32,
        "start_time": "2023-08-07T15:01:51.481Z"
      },
      {
        "duration": 36,
        "start_time": "2023-08-07T15:01:51.515Z"
      },
      {
        "duration": 41,
        "start_time": "2023-08-07T15:01:51.552Z"
      },
      {
        "duration": 36,
        "start_time": "2023-08-07T15:01:51.594Z"
      },
      {
        "duration": 4,
        "start_time": "2023-08-07T15:01:51.631Z"
      },
      {
        "duration": 39,
        "start_time": "2023-08-07T15:01:51.636Z"
      },
      {
        "duration": 28,
        "start_time": "2023-08-07T15:01:51.677Z"
      },
      {
        "duration": 18,
        "start_time": "2023-08-07T15:01:51.707Z"
      },
      {
        "duration": 25,
        "start_time": "2023-08-07T15:01:51.727Z"
      },
      {
        "duration": 44,
        "start_time": "2023-08-07T15:01:51.754Z"
      },
      {
        "duration": 34,
        "start_time": "2023-08-07T15:01:51.799Z"
      },
      {
        "duration": 34,
        "start_time": "2023-08-07T15:01:51.835Z"
      },
      {
        "duration": 28,
        "start_time": "2023-08-07T15:01:51.871Z"
      },
      {
        "duration": 473,
        "start_time": "2023-08-07T17:53:43.000Z"
      },
      {
        "duration": 21,
        "start_time": "2023-08-07T17:53:43.475Z"
      },
      {
        "duration": 19,
        "start_time": "2023-08-07T17:53:43.498Z"
      },
      {
        "duration": 8,
        "start_time": "2023-08-07T17:53:43.519Z"
      },
      {
        "duration": 43,
        "start_time": "2023-08-07T17:53:43.529Z"
      },
      {
        "duration": 4,
        "start_time": "2023-08-07T17:53:43.573Z"
      },
      {
        "duration": 21,
        "start_time": "2023-08-07T17:53:43.579Z"
      },
      {
        "duration": 9,
        "start_time": "2023-08-07T17:53:43.602Z"
      },
      {
        "duration": 8,
        "start_time": "2023-08-07T17:53:43.613Z"
      },
      {
        "duration": 10,
        "start_time": "2023-08-07T17:53:43.622Z"
      },
      {
        "duration": 36,
        "start_time": "2023-08-07T17:53:43.633Z"
      },
      {
        "duration": 10,
        "start_time": "2023-08-07T17:53:43.670Z"
      },
      {
        "duration": 3,
        "start_time": "2023-08-07T17:53:43.682Z"
      },
      {
        "duration": 11,
        "start_time": "2023-08-07T17:53:43.708Z"
      },
      {
        "duration": 22,
        "start_time": "2023-08-07T17:53:43.721Z"
      },
      {
        "duration": 17,
        "start_time": "2023-08-07T17:53:43.745Z"
      },
      {
        "duration": 5,
        "start_time": "2023-08-07T17:53:43.763Z"
      },
      {
        "duration": 13,
        "start_time": "2023-08-07T17:53:43.769Z"
      },
      {
        "duration": 26,
        "start_time": "2023-08-07T17:53:43.784Z"
      },
      {
        "duration": 9,
        "start_time": "2023-08-07T17:53:43.812Z"
      },
      {
        "duration": 21,
        "start_time": "2023-08-07T17:53:43.823Z"
      },
      {
        "duration": 28,
        "start_time": "2023-08-07T17:53:43.846Z"
      },
      {
        "duration": 17,
        "start_time": "2023-08-07T17:53:43.876Z"
      },
      {
        "duration": 26,
        "start_time": "2023-08-07T17:53:43.895Z"
      },
      {
        "duration": 18,
        "start_time": "2023-08-07T17:53:43.923Z"
      },
      {
        "duration": 306,
        "start_time": "2023-08-07T18:10:44.760Z"
      },
      {
        "duration": 691,
        "start_time": "2023-08-09T11:19:03.759Z"
      },
      {
        "duration": 23,
        "start_time": "2023-08-09T11:19:06.757Z"
      },
      {
        "duration": 73,
        "start_time": "2023-08-09T11:19:12.268Z"
      },
      {
        "duration": 17,
        "start_time": "2023-08-09T11:19:12.343Z"
      },
      {
        "duration": 31,
        "start_time": "2023-08-09T11:19:12.362Z"
      },
      {
        "duration": 25,
        "start_time": "2023-08-09T11:19:12.395Z"
      },
      {
        "duration": 40,
        "start_time": "2023-08-09T11:19:12.422Z"
      },
      {
        "duration": 5,
        "start_time": "2023-08-09T11:19:12.464Z"
      },
      {
        "duration": 22,
        "start_time": "2023-08-09T11:19:12.471Z"
      },
      {
        "duration": 9,
        "start_time": "2023-08-09T11:19:12.495Z"
      },
      {
        "duration": 14,
        "start_time": "2023-08-09T11:19:12.509Z"
      },
      {
        "duration": 5,
        "start_time": "2023-08-09T11:19:12.527Z"
      },
      {
        "duration": 41,
        "start_time": "2023-08-09T11:19:12.534Z"
      },
      {
        "duration": 10,
        "start_time": "2023-08-09T11:19:12.577Z"
      },
      {
        "duration": 20,
        "start_time": "2023-08-09T11:19:12.589Z"
      },
      {
        "duration": 12,
        "start_time": "2023-08-09T11:19:12.611Z"
      },
      {
        "duration": 26,
        "start_time": "2023-08-09T11:19:12.625Z"
      },
      {
        "duration": 19,
        "start_time": "2023-08-09T11:19:12.654Z"
      },
      {
        "duration": 4,
        "start_time": "2023-08-09T11:19:12.675Z"
      },
      {
        "duration": 38,
        "start_time": "2023-08-09T11:19:12.681Z"
      },
      {
        "duration": 12,
        "start_time": "2023-08-09T11:19:12.721Z"
      },
      {
        "duration": 13,
        "start_time": "2023-08-09T11:19:12.735Z"
      },
      {
        "duration": 15,
        "start_time": "2023-08-09T11:19:12.750Z"
      },
      {
        "duration": 45,
        "start_time": "2023-08-09T11:19:12.767Z"
      },
      {
        "duration": 527,
        "start_time": "2023-08-09T11:19:12.814Z"
      },
      {
        "duration": 25,
        "start_time": "2023-08-09T11:19:13.343Z"
      },
      {
        "duration": 40,
        "start_time": "2023-08-09T11:19:13.370Z"
      },
      {
        "duration": 23,
        "start_time": "2023-08-09T11:19:13.412Z"
      },
      {
        "duration": 492,
        "start_time": "2023-08-09T12:35:03.886Z"
      },
      {
        "duration": 24,
        "start_time": "2023-08-09T12:35:04.380Z"
      },
      {
        "duration": 15,
        "start_time": "2023-08-09T12:35:04.405Z"
      },
      {
        "duration": 19,
        "start_time": "2023-08-09T12:35:04.422Z"
      },
      {
        "duration": 51,
        "start_time": "2023-08-09T12:35:04.443Z"
      },
      {
        "duration": 25,
        "start_time": "2023-08-09T12:35:04.496Z"
      },
      {
        "duration": 14,
        "start_time": "2023-08-09T12:35:04.523Z"
      },
      {
        "duration": 13,
        "start_time": "2023-08-09T12:35:04.539Z"
      },
      {
        "duration": 35,
        "start_time": "2023-08-09T12:35:04.554Z"
      },
      {
        "duration": 30,
        "start_time": "2023-08-09T12:35:04.591Z"
      },
      {
        "duration": 47,
        "start_time": "2023-08-09T12:35:04.622Z"
      },
      {
        "duration": 9,
        "start_time": "2023-08-09T12:35:04.671Z"
      },
      {
        "duration": 7,
        "start_time": "2023-08-09T12:35:04.682Z"
      },
      {
        "duration": 16,
        "start_time": "2023-08-09T12:35:04.692Z"
      },
      {
        "duration": 29,
        "start_time": "2023-08-09T12:35:04.709Z"
      },
      {
        "duration": 30,
        "start_time": "2023-08-09T12:35:04.739Z"
      },
      {
        "duration": 4,
        "start_time": "2023-08-09T12:35:04.771Z"
      },
      {
        "duration": 38,
        "start_time": "2023-08-09T12:35:04.776Z"
      },
      {
        "duration": 6,
        "start_time": "2023-08-09T12:35:04.816Z"
      },
      {
        "duration": 48,
        "start_time": "2023-08-09T12:35:04.824Z"
      },
      {
        "duration": 37,
        "start_time": "2023-08-09T12:35:04.874Z"
      },
      {
        "duration": 39,
        "start_time": "2023-08-09T12:35:04.913Z"
      },
      {
        "duration": 355,
        "start_time": "2023-08-09T12:35:04.954Z"
      },
      {
        "duration": 22,
        "start_time": "2023-08-09T12:35:05.311Z"
      },
      {
        "duration": 33,
        "start_time": "2023-08-09T12:35:05.335Z"
      },
      {
        "duration": 37,
        "start_time": "2023-08-09T12:35:05.369Z"
      },
      {
        "duration": 266,
        "start_time": "2023-08-09T12:37:57.661Z"
      },
      {
        "duration": 50,
        "start_time": "2023-08-31T13:08:41.257Z"
      },
      {
        "duration": 514,
        "start_time": "2023-08-31T13:08:50.796Z"
      },
      {
        "duration": 27,
        "start_time": "2023-08-31T13:08:51.312Z"
      },
      {
        "duration": 19,
        "start_time": "2023-08-31T13:08:51.342Z"
      },
      {
        "duration": 12,
        "start_time": "2023-08-31T13:08:51.364Z"
      },
      {
        "duration": 50,
        "start_time": "2023-08-31T13:08:51.378Z"
      },
      {
        "duration": 4,
        "start_time": "2023-08-31T13:08:51.430Z"
      },
      {
        "duration": 31,
        "start_time": "2023-08-31T13:08:51.436Z"
      },
      {
        "duration": 5,
        "start_time": "2023-08-31T13:08:51.469Z"
      },
      {
        "duration": 18,
        "start_time": "2023-08-31T13:08:51.476Z"
      },
      {
        "duration": 4,
        "start_time": "2023-08-31T13:08:51.498Z"
      },
      {
        "duration": 51,
        "start_time": "2023-08-31T13:08:51.504Z"
      },
      {
        "duration": 10,
        "start_time": "2023-08-31T13:08:51.557Z"
      },
      {
        "duration": 5,
        "start_time": "2023-08-31T13:08:51.569Z"
      },
      {
        "duration": 19,
        "start_time": "2023-08-31T13:08:51.575Z"
      },
      {
        "duration": 26,
        "start_time": "2023-08-31T13:08:51.596Z"
      },
      {
        "duration": 18,
        "start_time": "2023-08-31T13:08:51.624Z"
      },
      {
        "duration": 16,
        "start_time": "2023-08-31T13:08:51.644Z"
      },
      {
        "duration": 18,
        "start_time": "2023-08-31T13:08:51.662Z"
      },
      {
        "duration": 15,
        "start_time": "2023-08-31T13:08:51.681Z"
      },
      {
        "duration": 15,
        "start_time": "2023-08-31T13:08:51.697Z"
      },
      {
        "duration": 13,
        "start_time": "2023-08-31T13:08:51.714Z"
      },
      {
        "duration": 36,
        "start_time": "2023-08-31T13:08:51.729Z"
      },
      {
        "duration": 354,
        "start_time": "2023-08-31T13:08:51.767Z"
      },
      {
        "duration": 38,
        "start_time": "2023-08-31T13:08:52.123Z"
      },
      {
        "duration": 25,
        "start_time": "2023-08-31T13:08:52.163Z"
      },
      {
        "duration": 296,
        "start_time": "2023-08-31T13:08:52.190Z"
      },
      {
        "duration": 24,
        "start_time": "2023-08-31T13:08:52.488Z"
      },
      {
        "duration": 32,
        "start_time": "2023-08-31T13:09:18.101Z"
      },
      {
        "duration": 38,
        "start_time": "2023-08-31T13:09:26.456Z"
      }
    ],
    "colab": {
      "provenance": []
    },
    "kernelspec": {
      "display_name": "Python 3 (ipykernel)",
      "language": "python",
      "name": "python3"
    },
    "language_info": {
      "codemirror_mode": {
        "name": "ipython",
        "version": 3
      },
      "file_extension": ".py",
      "mimetype": "text/x-python",
      "name": "python",
      "nbconvert_exporter": "python",
      "pygments_lexer": "ipython3",
      "version": "3.11.4"
    },
    "toc": {
      "base_numbering": 1,
      "nav_menu": {},
      "number_sections": true,
      "sideBar": true,
      "skip_h1_title": true,
      "title_cell": "Table of Contents",
      "title_sidebar": "Contents",
      "toc_cell": false,
      "toc_position": {
        "height": "calc(100% - 180px)",
        "left": "10px",
        "top": "150px",
        "width": "210.943px"
      },
      "toc_section_display": true,
      "toc_window_display": true
    }
  },
  "nbformat": 4,
  "nbformat_minor": 5
}